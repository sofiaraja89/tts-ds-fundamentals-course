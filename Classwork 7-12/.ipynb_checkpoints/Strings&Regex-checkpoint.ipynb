{
 "cells": [
  {
   "cell_type": "code",
   "execution_count": null,
   "id": "2a604d95",
   "metadata": {},
   "outputs": [],
   "source": [
    "#indexable\n",
    "#immutable\n",
    "my_string = \"string\"\n"
   ]
  },
  {
   "cell_type": "code",
   "execution_count": null,
   "id": "0febbd7d",
   "metadata": {},
   "outputs": [],
   "source": [
    "#slicing\n",
    "print(my_string[0:4])"
   ]
  },
  {
   "cell_type": "code",
   "execution_count": null,
   "id": "95791899",
   "metadata": {},
   "outputs": [],
   "source": [
    "type(my_string)"
   ]
  },
  {
   "cell_type": "code",
   "execution_count": null,
   "id": "4b308d8a",
   "metadata": {},
   "outputs": [],
   "source": [
    "#reverse a string \n",
    "print(my_string[::-1])"
   ]
  },
  {
   "cell_type": "code",
   "execution_count": null,
   "id": "e344b268",
   "metadata": {},
   "outputs": [],
   "source": [
    "print(my_string)"
   ]
  },
  {
   "cell_type": "code",
   "execution_count": null,
   "id": "93d75a5f",
   "metadata": {},
   "outputs": [],
   "source": [
    "len(my_string)"
   ]
  },
  {
   "cell_type": "code",
   "execution_count": null,
   "id": "bb75c457",
   "metadata": {},
   "outputs": [],
   "source": [
    "my_string = \"my_\" + my_string "
   ]
  },
  {
   "cell_type": "code",
   "execution_count": null,
   "id": "6f10c1e1",
   "metadata": {},
   "outputs": [],
   "source": [
    "print(my_string)"
   ]
  },
  {
   "cell_type": "code",
   "execution_count": null,
   "id": "bc3e033f",
   "metadata": {},
   "outputs": [],
   "source": [
    "\"\"\" \"my_string 'another string' \" \"\"\""
   ]
  },
  {
   "cell_type": "code",
   "execution_count": null,
   "id": "5f87cc66",
   "metadata": {},
   "outputs": [],
   "source": [
    "#Varibable Assignment \n",
    "my_variable = \"fox\"\n",
    "\n",
    "#conditonal evalutaion ==: true/false\n",
    "if (my_variable) == (\"fox\"):\n",
    "    print(\"this is true\")"
   ]
  },
  {
   "cell_type": "code",
   "execution_count": null,
   "id": "37ac8fa9",
   "metadata": {},
   "outputs": [],
   "source": [
    "fox = \"string\"\n",
    "#fox.upper()"
   ]
  },
  {
   "cell_type": "code",
   "execution_count": null,
   "id": "98ae3e37",
   "metadata": {},
   "outputs": [],
   "source": [
    "fox.upper()"
   ]
  },
  {
   "cell_type": "code",
   "execution_count": null,
   "id": "5a70a336",
   "metadata": {},
   "outputs": [],
   "source": [
    "fox = fox[0:2]"
   ]
  },
  {
   "cell_type": "code",
   "execution_count": null,
   "id": "9f7e23d2",
   "metadata": {},
   "outputs": [],
   "source": [
    "print (fox)"
   ]
  },
  {
   "cell_type": "code",
   "execution_count": null,
   "id": "29e5d280",
   "metadata": {},
   "outputs": [],
   "source": [
    "fox = fox.upper()\n",
    "print(fox)"
   ]
  },
  {
   "cell_type": "code",
   "execution_count": null,
   "id": "ec0d3fc2",
   "metadata": {},
   "outputs": [],
   "source": [
    "#when we call the function "
   ]
  },
  {
   "cell_type": "code",
   "execution_count": null,
   "id": "321e2426",
   "metadata": {},
   "outputs": [],
   "source": [
    "#when we define a function the placeholderr are parameters\n",
    "def x():\n",
    "    return 5"
   ]
  },
  {
   "cell_type": "code",
   "execution_count": null,
   "id": "def43c80",
   "metadata": {},
   "outputs": [],
   "source": [
    "x()"
   ]
  },
  {
   "cell_type": "code",
   "execution_count": null,
   "id": "b144c2e1",
   "metadata": {},
   "outputs": [],
   "source": [
    "line = 'the quick brown fox jumped over a lazy dog'"
   ]
  },
  {
   "cell_type": "code",
   "execution_count": null,
   "id": "921a9ff0",
   "metadata": {},
   "outputs": [],
   "source": [
    "line = line.rjust(50)\n",
    "#print(line.rjust(50))\n",
    "print (line)"
   ]
  },
  {
   "cell_type": "code",
   "execution_count": null,
   "id": "047d5ef7",
   "metadata": {},
   "outputs": [],
   "source": [
    "len(line)"
   ]
  },
  {
   "cell_type": "code",
   "execution_count": null,
   "id": "dac8e774",
   "metadata": {},
   "outputs": [],
   "source": [
    "#replace \n",
    "line = 'the quick brown fox jumped over a lazy dog'\n",
    "line.replace('brown', 'red')"
   ]
  },
  {
   "cell_type": "code",
   "execution_count": null,
   "id": "809da014",
   "metadata": {},
   "outputs": [],
   "source": [
    "line.replace('o', '--')"
   ]
  },
  {
   "cell_type": "code",
   "execution_count": null,
   "id": "bd26eeff",
   "metadata": {},
   "outputs": [],
   "source": [
    "'--'.join(['1','2','3'])"
   ]
  },
  {
   "cell_type": "code",
   "execution_count": null,
   "id": "1ef8da20",
   "metadata": {},
   "outputs": [],
   "source": [
    "#input function returns a string\n",
    "x = input(\"Enter a number between 1 and 5: \")"
   ]
  },
  {
   "cell_type": "code",
   "execution_count": null,
   "id": "86ee1c03",
   "metadata": {},
   "outputs": [],
   "source": [
    "str(4) ==x"
   ]
  },
  {
   "cell_type": "code",
   "execution_count": 63,
   "id": "d0e0d3cf",
   "metadata": {},
   "outputs": [
    {
     "ename": "SyntaxError",
     "evalue": "invalid syntax (4148873819.py, line 5)",
     "output_type": "error",
     "traceback": [
      "\u001b[1;36m  Input \u001b[1;32mIn [63]\u001b[1;36m\u001b[0m\n\u001b[1;33m    for s [\"    \", \"abc \", ]\u001b[0m\n\u001b[1;37m                             ^\u001b[0m\n\u001b[1;31mSyntaxError\u001b[0m\u001b[1;31m:\u001b[0m invalid syntax\n"
     ]
    }
   ],
   "source": [
    "import re\n",
    "regex = re.compile('\\s+')#white space\n",
    "regex.split(line) \n",
    "\n",
    "for s [\"    \", \"abc \", ] "
   ]
  },
  {
   "cell_type": "code",
   "execution_count": null,
   "id": "10a0cc5a",
   "metadata": {},
   "outputs": [],
   "source": []
  },
  {
   "cell_type": "code",
   "execution_count": 62,
   "id": "1f983336",
   "metadata": {},
   "outputs": [
    {
     "data": {
      "text/plain": [
       "['$']"
      ]
     },
     "execution_count": 62,
     "metadata": {},
     "output_type": "execute_result"
    }
   ],
   "source": [
    "#r= raw string, blackslashs treated as regular characters#\n",
    "\n",
    "\n",
    "#CHECK BACK ON THE VIDEO#\n",
    "import re\n",
    "regex = re.compile(r'\\$')\n",
    "regex.findall(\"the cost is $20\")"
   ]
  },
  {
   "cell_type": "code",
   "execution_count": null,
   "id": "110db132",
   "metadata": {},
   "outputs": [],
   "source": [
    "#patterns and string munpulation#"
   ]
  },
  {
   "cell_type": "code",
   "execution_count": 65,
   "id": "57249caf",
   "metadata": {},
   "outputs": [
    {
     "data": {
      "text/plain": [
       "['e f', 'x i', 's 9', 's o']"
      ]
     },
     "execution_count": 65,
     "metadata": {},
     "output_type": "execute_result"
    }
   ],
   "source": [
    "\n",
    "regex = re.compile(r'\\w\\s\\w')\n",
    "regex.findall('the fox is 9 years old')"
   ]
  },
  {
   "cell_type": "code",
   "execution_count": 64,
   "id": "f20c0510",
   "metadata": {},
   "outputs": [
    {
     "data": {
      "text/plain": [
       "['The', 'quick', 'brown', 'fox']"
      ]
     },
     "execution_count": 64,
     "metadata": {},
     "output_type": "execute_result"
    }
   ],
   "source": [
    "\n",
    "regex = re.compile(r'\\w+')\n",
    "regex.findall('The quick brown fox')"
   ]
  },
  {
   "cell_type": "code",
   "execution_count": 69,
   "id": "01f96dbb",
   "metadata": {},
   "outputs": [
    {
     "data": {
      "text/plain": [
       "['sofiaraja89@outlook.c']"
      ]
     },
     "execution_count": 69,
     "metadata": {},
     "output_type": "execute_result"
    }
   ],
   "source": [
    "email = re.compile(r'\\w+@\\w+\\.[a-z{3}]')\n",
    "email.findall('sofiaraja89@outlook.com')"
   ]
  },
  {
   "cell_type": "code",
   "execution_count": null,
   "id": "09c381c2",
   "metadata": {},
   "outputs": [],
   "source": []
  },
  {
   "cell_type": "code",
   "execution_count": null,
   "id": "53c092b1",
   "metadata": {},
   "outputs": [],
   "source": []
  },
  {
   "cell_type": "code",
   "execution_count": null,
   "id": "a8b6e2b3",
   "metadata": {},
   "outputs": [],
   "source": []
  },
  {
   "cell_type": "code",
   "execution_count": null,
   "id": "da6b093e",
   "metadata": {},
   "outputs": [],
   "source": []
  },
  {
   "cell_type": "code",
   "execution_count": null,
   "id": "9c8494ad",
   "metadata": {},
   "outputs": [],
   "source": []
  },
  {
   "cell_type": "code",
   "execution_count": null,
   "id": "59a4eae5",
   "metadata": {},
   "outputs": [],
   "source": []
  }
 ],
 "metadata": {
  "kernelspec": {
   "display_name": "Python 3 (ipykernel)",
   "language": "python",
   "name": "python3"
  },
  "language_info": {
   "codemirror_mode": {
    "name": "ipython",
    "version": 3
   },
   "file_extension": ".py",
   "mimetype": "text/x-python",
   "name": "python",
   "nbconvert_exporter": "python",
   "pygments_lexer": "ipython3",
   "version": "3.9.12"
  }
 },
 "nbformat": 4,
 "nbformat_minor": 5
}
