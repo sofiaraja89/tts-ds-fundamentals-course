{
 "cells": [
  {
   "cell_type": "code",
   "execution_count": 1,
   "id": "76394cec",
   "metadata": {},
   "outputs": [
    {
     "name": "stdout",
     "output_type": "stream",
     "text": [
      "Type number between 1 abnd 5:1\n"
     ]
    }
   ],
   "source": [
    "x = input(\"Type number between 1 abnd 5:\")"
   ]
  },
  {
   "cell_type": "code",
   "execution_count": 4,
   "id": "f6cf9f2b",
   "metadata": {},
   "outputs": [],
   "source": [
    "#variable setting \n",
    "x =  \"string\" \n",
    "#int\n",
    "y = 5\n",
    "#float\n",
    "z = 4.5\n",
    "#boolean \n",
    "a = True #False \n"
   ]
  },
  {
   "cell_type": "code",
   "execution_count": 6,
   "id": "58545b12",
   "metadata": {},
   "outputs": [
    {
     "name": "stdout",
     "output_type": "stream",
     "text": [
      "string\n",
      "4.5\n"
     ]
    }
   ],
   "source": [
    "print(x)\n",
    "print(z)"
   ]
  },
  {
   "cell_type": "code",
   "execution_count": 9,
   "id": "e117c57e",
   "metadata": {},
   "outputs": [
    {
     "data": {
      "text/plain": [
       "'tri'"
      ]
     },
     "execution_count": 9,
     "metadata": {},
     "output_type": "execute_result"
    }
   ],
   "source": [
    "#slicing\n",
    "#first number is inclusive \n",
    "#second number is exclusive, upto but not included\n",
    "x[1:4]"
   ]
  },
  {
   "cell_type": "code",
   "execution_count": 15,
   "id": "f4998523",
   "metadata": {},
   "outputs": [],
   "source": [
    "#List data structure \n",
    "x = [1,2,3,4,5,\"my_string\",4.4,True]\n",
    "\n"
   ]
  },
  {
   "cell_type": "code",
   "execution_count": 19,
   "id": "e80c6c79",
   "metadata": {},
   "outputs": [
    {
     "name": "stdout",
     "output_type": "stream",
     "text": [
      "True\n"
     ]
    }
   ],
   "source": [
    "print(x[-1])"
   ]
  },
  {
   "cell_type": "code",
   "execution_count": 40,
   "id": "f6a892b1",
   "metadata": {},
   "outputs": [],
   "source": [
    "#String concatenation \n",
    "x = r\"C:\\Users\\im_uz\\Desktop \"\n",
    "y = [\" name of folder 1, name of folder 2, example folder 3\"]\n"
   ]
  },
  {
   "cell_type": "code",
   "execution_count": 39,
   "id": "9a306eb3",
   "metadata": {},
   "outputs": [
    {
     "name": "stdout",
     "output_type": "stream",
     "text": [
      "C:\\Users\\im_uz\\Desktop  name of folder 1, name of folder 2, example folder 3\n"
     ]
    }
   ],
   "source": [
    "for i in y:\n",
    "    print(x  + \"\" +  i )"
   ]
  },
  {
   "cell_type": "code",
   "execution_count": 22,
   "id": "28da48ad",
   "metadata": {},
   "outputs": [
    {
     "name": "stdout",
     "output_type": "stream",
     "text": [
      "my_string\n"
     ]
    }
   ],
   "source": [
    "print (x + y)"
   ]
  },
  {
   "cell_type": "code",
   "execution_count": null,
   "id": "04cd47d3",
   "metadata": {},
   "outputs": [],
   "source": [
    "#Conttrol flow \n",
    "if "
   ]
  }
 ],
 "metadata": {
  "kernelspec": {
   "display_name": "Python 3 (ipykernel)",
   "language": "python",
   "name": "python3"
  },
  "language_info": {
   "codemirror_mode": {
    "name": "ipython",
    "version": 3
   },
   "file_extension": ".py",
   "mimetype": "text/x-python",
   "name": "python",
   "nbconvert_exporter": "python",
   "pygments_lexer": "ipython3",
   "version": "3.9.12"
  }
 },
 "nbformat": 4,
 "nbformat_minor": 5
}
