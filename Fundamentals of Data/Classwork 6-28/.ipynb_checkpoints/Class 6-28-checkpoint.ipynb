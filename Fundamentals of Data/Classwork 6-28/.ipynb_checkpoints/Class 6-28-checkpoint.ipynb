{
 "cells": [
  {
   "cell_type": "code",
   "execution_count": 2,
   "id": "d693efce",
   "metadata": {},
   "outputs": [],
   "source": [
    "#Variable Setting\n",
    "x = 4"
   ]
  },
  {
   "cell_type": "code",
   "execution_count": 3,
   "id": "21f48050",
   "metadata": {},
   "outputs": [
    {
     "name": "stdout",
     "output_type": "stream",
     "text": [
      "4\n"
     ]
    }
   ],
   "source": [
    "print(x)"
   ]
  },
  {
   "cell_type": "code",
   "execution_count": 5,
   "id": "e963363f",
   "metadata": {},
   "outputs": [],
   "source": [
    "y = 5"
   ]
  },
  {
   "cell_type": "code",
   "execution_count": 6,
   "id": "a1b03858",
   "metadata": {},
   "outputs": [
    {
     "name": "stdout",
     "output_type": "stream",
     "text": [
      "9\n"
     ]
    }
   ],
   "source": [
    "print(x+y)"
   ]
  },
  {
   "cell_type": "code",
   "execution_count": null,
   "id": "60991bf8",
   "metadata": {},
   "outputs": [],
   "source": [
    "#This is a comment\n",
    "#Comments are unexecutable lines of code"
   ]
  },
  {
   "cell_type": "code",
   "execution_count": null,
   "id": "89c19a00",
   "metadata": {},
   "outputs": [],
   "source": [
    "#This is a multi-line comment \n",
    "\"\"\"\n",
    "\"\"\"\n"
   ]
  },
  {
   "cell_type": "code",
   "execution_count": 7,
   "id": "dee5f50d",
   "metadata": {},
   "outputs": [],
   "source": [
    "#Use a marker if whats within is long\n",
    "x = 1 + 2 + 3 + 4 +\\\n",
    "    5 + 6 + 7 + 8"
   ]
  },
  {
   "cell_type": "code",
   "execution_count": 8,
   "id": "cc0aed4f",
   "metadata": {},
   "outputs": [
    {
     "name": "stdout",
     "output_type": "stream",
     "text": [
      "36\n"
     ]
    }
   ],
   "source": [
    "print (x)"
   ]
  },
  {
   "cell_type": "code",
   "execution_count": 9,
   "id": "35b9edda",
   "metadata": {},
   "outputs": [],
   "source": [
    "#Name your variables something that makes sense \n",
    "#Snake casing - each word starts with a lowe case letter and separated by a _\n",
    "name_variable = \"Does not matter\"\n",
    "\n"
   ]
  },
  {
   "cell_type": "code",
   "execution_count": 10,
   "id": "2e9d9a53",
   "metadata": {},
   "outputs": [
    {
     "name": "stdout",
     "output_type": "stream",
     "text": [
      "Does not matter\n"
     ]
    }
   ],
   "source": [
    "print(name_variable)"
   ]
  },
  {
   "cell_type": "code",
   "execution_count": 12,
   "id": "3aa79599",
   "metadata": {},
   "outputs": [],
   "source": [
    "#This is camel casing \n",
    "thisIsCamelCasing = \"Does not matter\""
   ]
  },
  {
   "cell_type": "code",
   "execution_count": 13,
   "id": "1abb8f8f",
   "metadata": {},
   "outputs": [
    {
     "name": "stdout",
     "output_type": "stream",
     "text": [
      "Does not matter\n"
     ]
    }
   ],
   "source": [
    "print(thisIsCamelCasing)"
   ]
  },
  {
   "cell_type": "code",
   "execution_count": 21,
   "id": "0bc5aaa3",
   "metadata": {},
   "outputs": [],
   "source": [
    "#What is a list- is a data structure that can hold different items\n",
    "#It's indexable\n",
    "#Sliceable\n",
    "#Mutable \n",
    "#This is a list data structure\n",
    "\n",
    "x = [1,2,3]\n"
   ]
  },
  {
   "cell_type": "code",
   "execution_count": 28,
   "id": "6971e174",
   "metadata": {},
   "outputs": [
    {
     "name": "stdout",
     "output_type": "stream",
     "text": [
      "[2, 3]\n",
      "[2, 3]\n"
     ]
    }
   ],
   "source": [
    "#Slicing \n",
    "#Index notation, list, brackets, using indexing \n",
    "#First number is inclusive \n",
    "#Second number is exclusive \n",
    "#Up to but not including position 3\n",
    "print (x[1:3])\n",
    "\n",
    "#Negative indexing\n",
    "\n",
    "#print (x[-1])\n",
    "print (x[-2:])"
   ]
  },
  {
   "cell_type": "code",
   "execution_count": 22,
   "id": "82c15fd6",
   "metadata": {},
   "outputs": [
    {
     "name": "stdout",
     "output_type": "stream",
     "text": [
      "3\n"
     ]
    }
   ],
   "source": [
    "#index notation\n",
    "print(x[2])"
   ]
  },
  {
   "cell_type": "code",
   "execution_count": 23,
   "id": "c42920da",
   "metadata": {},
   "outputs": [
    {
     "name": "stdout",
     "output_type": "stream",
     "text": [
      "1\n",
      "2\n",
      "3\n"
     ]
    }
   ],
   "source": [
    "#For loop\n",
    "#For loops are used to iterate data structures\n",
    "#For each item in x (which is list) print each item\n",
    "\n",
    "for i in x: \n",
    "    print (i)"
   ]
  },
  {
   "cell_type": "code",
   "execution_count": 52,
   "id": "cabc2db5",
   "metadata": {},
   "outputs": [
    {
     "name": "stdout",
     "output_type": "stream",
     "text": [
      "Nevermind\n",
      "2.0\n"
     ]
    }
   ],
   "source": [
    "#x = 5\n",
    "#x = 3\n",
    "x = 22\n",
    "    \n",
    "#if (conditional statement:) is true\n",
    "if x < 4: \n",
    "    y = x * 2\n",
    "#elif x > 4:\n",
    "elif x == 4:\n",
    "     y = x / 2\n",
    "else:\n",
    "    print (\"Nevermind\")\n",
    "    #print(y)#prints nothing because x is greater than 4 (false)\n",
    "    print(y)"
   ]
  },
  {
   "cell_type": "code",
   "execution_count": 47,
   "id": "8fd5ba29",
   "metadata": {},
   "outputs": [
    {
     "name": "stdout",
     "output_type": "stream",
     "text": [
      "True\n",
      "None\n"
     ]
    }
   ],
   "source": [
    "x = 4 \n",
    "print(print(x == 4))"
   ]
  },
  {
   "cell_type": "code",
   "execution_count": 31,
   "id": "a3ed997b",
   "metadata": {},
   "outputs": [
    {
     "name": "stdout",
     "output_type": "stream",
     "text": [
      "False\n",
      "None\n"
     ]
    }
   ],
   "source": [
    "x = 4 \n",
    "print(print(x != 4))"
   ]
  },
  {
   "cell_type": "code",
   "execution_count": 55,
   "id": "7760d465",
   "metadata": {},
   "outputs": [
    {
     "name": "stdout",
     "output_type": "stream",
     "text": [
      "4\n"
     ]
    }
   ],
   "source": [
    "#Exponents \n",
    "\n",
    "x = 2**2\n",
    "print(x)"
   ]
  },
  {
   "cell_type": "code",
   "execution_count": 56,
   "id": "a5c4bc95",
   "metadata": {},
   "outputs": [
    {
     "name": "stdout",
     "output_type": "stream",
     "text": [
      "[1, 2, 3, 4]\n"
     ]
    }
   ],
   "source": [
    "#Sort \n",
    "L = [4,3,2,1]\n",
    "L.sort() #sorts numbers in order, starting with the less than(lowest number)\n",
    "         #runs a function  \n",
    "print(L)"
   ]
  },
  {
   "cell_type": "code",
   "execution_count": 57,
   "id": "70abbcbb",
   "metadata": {},
   "outputs": [
    {
     "name": "stdout",
     "output_type": "stream",
     "text": [
      "second value: 2\n"
     ]
    }
   ],
   "source": [
    "#String concatentaion- concatenating 2 or more strings\n",
    "print ('second value:', 2)"
   ]
  },
  {
   "cell_type": "code",
   "execution_count": 58,
   "id": "241645e4",
   "metadata": {},
   "outputs": [
    {
     "name": "stdout",
     "output_type": "stream",
     "text": [
      "second value: 2\n"
     ]
    }
   ],
   "source": [
    "print ('second value:'+ \" 2\" )"
   ]
  },
  {
   "cell_type": "code",
   "execution_count": 59,
   "id": "c65aa2f9",
   "metadata": {},
   "outputs": [
    {
     "name": "stdout",
     "output_type": "stream",
     "text": [
      "second value: 2 <-\n"
     ]
    }
   ],
   "source": [
    "print ('second value:' + \" 2\" \" <-\")"
   ]
  },
  {
   "cell_type": "code",
   "execution_count": 61,
   "id": "43651376",
   "metadata": {},
   "outputs": [],
   "source": [
    "x = [1,2,3]\n",
    "y = x"
   ]
  },
  {
   "cell_type": "code",
   "execution_count": 62,
   "id": "259f1f82",
   "metadata": {},
   "outputs": [
    {
     "name": "stdout",
     "output_type": "stream",
     "text": [
      "[1, 2, 3]\n"
     ]
    }
   ],
   "source": [
    "print(y)"
   ]
  },
  {
   "cell_type": "code",
   "execution_count": 69,
   "id": "773a2411",
   "metadata": {},
   "outputs": [],
   "source": [
    "x = \"Water\"\n",
    "x = \"Water 2\""
   ]
  },
  {
   "cell_type": "code",
   "execution_count": 74,
   "id": "56f85a35",
   "metadata": {},
   "outputs": [
    {
     "name": "stdout",
     "output_type": "stream",
     "text": [
      "W\n"
     ]
    }
   ],
   "source": [
    "print(x[0])"
   ]
  },
  {
   "cell_type": "code",
   "execution_count": 75,
   "id": "c56f13c3",
   "metadata": {},
   "outputs": [
    {
     "name": "stdout",
     "output_type": "stream",
     "text": [
      "2\n"
     ]
    }
   ],
   "source": [
    "print(x[-1])"
   ]
  },
  {
   "cell_type": "code",
   "execution_count": 70,
   "id": "bfc7facc",
   "metadata": {},
   "outputs": [
    {
     "ename": "TypeError",
     "evalue": "'str' object does not support item assignment",
     "output_type": "error",
     "traceback": [
      "\u001b[1;31m---------------------------------------------------------------------------\u001b[0m",
      "\u001b[1;31mTypeError\u001b[0m                                 Traceback (most recent call last)",
      "Input \u001b[1;32mIn [70]\u001b[0m, in \u001b[0;36m<cell line: 2>\u001b[1;34m()\u001b[0m\n\u001b[0;32m      1\u001b[0m \u001b[38;5;66;03m#Strings are imutable, can not be altered\u001b[39;00m\n\u001b[1;32m----> 2\u001b[0m x[\u001b[38;5;241m2\u001b[39m] \u001b[38;5;241m=\u001b[39m \u001b[38;5;124m\"\u001b[39m\u001b[38;5;124mW\u001b[39m\u001b[38;5;124m\"\u001b[39m\n",
      "\u001b[1;31mTypeError\u001b[0m: 'str' object does not support item assignment"
     ]
    }
   ],
   "source": [
    "#Strings are imutable, can not be altered\n",
    "#x[2] = \"W\""
   ]
  },
  {
   "cell_type": "code",
   "execution_count": 72,
   "id": "f77ed88a",
   "metadata": {},
   "outputs": [],
   "source": [
    "#List data structures are mutable\n",
    "#List are indexable\n",
    "L = [0,1,2,3,4] \n",
    "L[1] = \"Water\"\n",
    "    "
   ]
  },
  {
   "cell_type": "code",
   "execution_count": 73,
   "id": "5a3033ac",
   "metadata": {},
   "outputs": [
    {
     "name": "stdout",
     "output_type": "stream",
     "text": [
      "[0, 'Water', 2, 3, 4]\n"
     ]
    }
   ],
   "source": [
    "print(L)"
   ]
  },
  {
   "cell_type": "code",
   "execution_count": 79,
   "id": "bfe5dce1",
   "metadata": {},
   "outputs": [
    {
     "name": "stdout",
     "output_type": "stream",
     "text": [
      "Enter a number between 1 and 5: 3\n"
     ]
    }
   ],
   "source": [
    "x = input (\"Enter a number between 1 and 5: \")"
   ]
  },
  {
   "cell_type": "code",
   "execution_count": 80,
   "id": "f8cdcc7e",
   "metadata": {},
   "outputs": [
    {
     "name": "stdout",
     "output_type": "stream",
     "text": [
      "3\n"
     ]
    }
   ],
   "source": [
    "print(x)"
   ]
  },
  {
   "cell_type": "code",
   "execution_count": 81,
   "id": "8fe0a73a",
   "metadata": {},
   "outputs": [
    {
     "name": "stdout",
     "output_type": "stream",
     "text": [
      "False\n"
     ]
    }
   ],
   "source": [
    "#This is false, because the input function always returns a string\n",
    "print(x == 5)"
   ]
  },
  {
   "cell_type": "code",
   "execution_count": 82,
   "id": "fb8131a7",
   "metadata": {},
   "outputs": [
    {
     "name": "stdout",
     "output_type": "stream",
     "text": [
      "<class 'str'>\n"
     ]
    }
   ],
   "source": [
    "print (type(x))"
   ]
  },
  {
   "cell_type": "code",
   "execution_count": 83,
   "id": "4f9aab01",
   "metadata": {},
   "outputs": [
    {
     "name": "stdout",
     "output_type": "stream",
     "text": [
      "True\n"
     ]
    }
   ],
   "source": [
    "print(5 == 5)"
   ]
  },
  {
   "cell_type": "code",
   "execution_count": null,
   "id": "5351f64b",
   "metadata": {},
   "outputs": [],
   "source": []
  }
 ],
 "metadata": {
  "kernelspec": {
   "display_name": "Python 3 (ipykernel)",
   "language": "python",
   "name": "python3"
  },
  "language_info": {
   "codemirror_mode": {
    "name": "ipython",
    "version": 3
   },
   "file_extension": ".py",
   "mimetype": "text/x-python",
   "name": "python",
   "nbconvert_exporter": "python",
   "pygments_lexer": "ipython3",
   "version": "3.9.12"
  }
 },
 "nbformat": 4,
 "nbformat_minor": 5
}
