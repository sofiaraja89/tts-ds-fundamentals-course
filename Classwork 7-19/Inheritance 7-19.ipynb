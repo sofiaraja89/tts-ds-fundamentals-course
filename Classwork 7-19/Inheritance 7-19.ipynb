{
 "cells": [
  {
   "cell_type": "code",
   "execution_count": null,
   "id": "1da3cb0e",
   "metadata": {},
   "outputs": [],
   "source": [
    "#Class: blue print to create instance/object\n",
    "#Method : is a procedure or function associated with a class. As part of a class, a method defines a particular behavior of a class instance. \n",
    "#A class can have more than one method.\n",
    "#Instance variables: contain data relative to instances\n",
    "#Atributes: unique to instances \n",
    "#instantiate: create an object from a class"
   ]
  },
  {
   "cell_type": "code",
   "execution_count": 3,
   "id": "21017490",
   "metadata": {},
   "outputs": [],
   "source": [
    "list = [1,2,3]"
   ]
  },
  {
   "cell_type": "code",
   "execution_count": 4,
   "id": "02f5749f",
   "metadata": {},
   "outputs": [],
   "source": [
    "#abstraction\n",
    "list.append(4)"
   ]
  },
  {
   "cell_type": "code",
   "execution_count": 5,
   "id": "8260de07",
   "metadata": {},
   "outputs": [
    {
     "name": "stdout",
     "output_type": "stream",
     "text": [
      "[1, 2, 3, 4]\n"
     ]
    }
   ],
   "source": [
    "print(list)"
   ]
  },
  {
   "cell_type": "code",
   "execution_count": null,
   "id": "a3181a75",
   "metadata": {},
   "outputs": [],
   "source": [
    "#encapsulate= keep/encapsulate eveyrthing within the class"
   ]
  },
  {
   "cell_type": "code",
   "execution_count": null,
   "id": "4ab18723",
   "metadata": {},
   "outputs": [],
   "source": [
    "#polymorphism\n",
    "#class takes on many different forms\n",
    "#dog class : husky, shitz su"
   ]
  },
  {
   "cell_type": "code",
   "execution_count": null,
   "id": "3e32c186",
   "metadata": {},
   "outputs": [],
   "source": [
    "#inheritance\n",
    "#parent class, super class\n",
    "#parent class, child class"
   ]
  },
  {
   "cell_type": "code",
   "execution_count": 40,
   "id": "e0b22621",
   "metadata": {},
   "outputs": [],
   "source": [
    "class Dog: \n",
    "    def __init__(self, breed, age, gender):#constructor function, tells us how to create an instance(object) of the class\n",
    "       #fields\n",
    "        self.breed = breed\n",
    "        self.age = age\n",
    "        self.gender = gender\n",
    "    \n",
    "    def roll_over(self):#method \n",
    "        print(\"the dog rolls over.\")\n",
    "  \n",
    "        "
   ]
  },
  {
   "cell_type": "code",
   "execution_count": 41,
   "id": "fa7bb458",
   "metadata": {},
   "outputs": [],
   "source": [
    "#instatiated a dog object \n",
    "chihuahua_one = Dog(\"chihuahua\", 4, \"M\")#instance of dog classs"
   ]
  },
  {
   "cell_type": "code",
   "execution_count": 42,
   "id": "d5c54331",
   "metadata": {},
   "outputs": [
    {
     "data": {
      "text/plain": [
       "'chihuahua'"
      ]
     },
     "execution_count": 42,
     "metadata": {},
     "output_type": "execute_result"
    }
   ],
   "source": [
    "chihuahua_one.breed#.age, .gender"
   ]
  },
  {
   "cell_type": "code",
   "execution_count": 46,
   "id": "7bd685ef",
   "metadata": {},
   "outputs": [
    {
     "data": {
      "text/plain": [
       "4"
      ]
     },
     "execution_count": 46,
     "metadata": {},
     "output_type": "execute_result"
    }
   ],
   "source": [
    "chihuahua_one.age"
   ]
  },
  {
   "cell_type": "code",
   "execution_count": 48,
   "id": "18d6f54b",
   "metadata": {},
   "outputs": [
    {
     "name": "stdout",
     "output_type": "stream",
     "text": [
      "the dog rolls over.\n"
     ]
    }
   ],
   "source": [
    "chihuahua_one.roll_over()"
   ]
  },
  {
   "cell_type": "code",
   "execution_count": 73,
   "id": "24cc74a7",
   "metadata": {},
   "outputs": [],
   "source": [
    "#single inheritance: When a child class inherits from only one parent class, it is called single inheritance\n",
    "#multiple inheritance: When a child class inherits from multiple parent classes, it is called multiple inheritance. ..."
   ]
  },
  {
   "cell_type": "code",
   "execution_count": 2,
   "id": "0a4e6be0",
   "metadata": {},
   "outputs": [
    {
     "ename": "NameError",
     "evalue": "name 'Developer' is not defined",
     "output_type": "error",
     "traceback": [
      "\u001b[1;31m---------------------------------------------------------------------------\u001b[0m",
      "\u001b[1;31mNameError\u001b[0m                                 Traceback (most recent call last)",
      "Input \u001b[1;32mIn [2]\u001b[0m, in \u001b[0;36m<cell line: 15>\u001b[1;34m()\u001b[0m\n\u001b[0;32m     12\u001b[0m     \u001b[38;5;28;01mdef\u001b[39;00m \u001b[38;5;21mapply_raise\u001b[39m(\u001b[38;5;28mself\u001b[39m):\n\u001b[0;32m     13\u001b[0m         \u001b[38;5;28mself\u001b[39m\u001b[38;5;241m.\u001b[39mpay \u001b[38;5;241m=\u001b[39m \u001b[38;5;28mint\u001b[39m(\u001b[38;5;28mself\u001b[39m\u001b[38;5;241m.\u001b[39mpay \u001b[38;5;241m*\u001b[39m \u001b[38;5;28mself\u001b[39m\u001b[38;5;241m.\u001b[39mraise_amt)\n\u001b[1;32m---> 15\u001b[0m \u001b[38;5;28;01mclass\u001b[39;00m \u001b[38;5;21;01mDeveloper\u001b[39;00m(Employee):\n\u001b[0;32m     16\u001b[0m     raise_amt \u001b[38;5;241m=\u001b[39m \u001b[38;5;241m1.10\u001b[39m\n\u001b[0;32m     18\u001b[0m     \u001b[38;5;28;01mdef\u001b[39;00m \u001b[38;5;21m__init__\u001b[39m(\u001b[38;5;28mself\u001b[39m,first,last,pay,prog_lang):\n",
      "Input \u001b[1;32mIn [2]\u001b[0m, in \u001b[0;36mDeveloper\u001b[1;34m()\u001b[0m\n\u001b[0;32m     19\u001b[0m     \u001b[38;5;28msuper\u001b[39m()\u001b[38;5;241m.\u001b[39m\u001b[38;5;21m__init__\u001b[39m(first,last,pay)\u001b[38;5;66;03m#calling parents(Employee) init method\u001b[39;00m\n\u001b[0;32m     20\u001b[0m     \u001b[38;5;28mself\u001b[39m\u001b[38;5;241m.\u001b[39mpro_lang \u001b[38;5;241m=\u001b[39m prog_lang\n\u001b[1;32m---> 22\u001b[0m dev_1 \u001b[38;5;241m=\u001b[39m \u001b[43mDeveloper\u001b[49m(\u001b[38;5;124m'\u001b[39m\u001b[38;5;124mcorey\u001b[39m\u001b[38;5;124m'\u001b[39m, \u001b[38;5;124m'\u001b[39m\u001b[38;5;124mschefer\u001b[39m\u001b[38;5;124m'\u001b[39m, \u001b[38;5;241m50000\u001b[39m, \u001b[38;5;124m'\u001b[39m\u001b[38;5;124mpython\u001b[39m\u001b[38;5;124m'\u001b[39m)\n\u001b[0;32m     23\u001b[0m dev_2 \u001b[38;5;241m=\u001b[39m Developer (\u001b[38;5;124m'\u001b[39m\u001b[38;5;124mtest\u001b[39m\u001b[38;5;124m'\u001b[39m, \u001b[38;5;124m'\u001b[39m\u001b[38;5;124memployee\u001b[39m\u001b[38;5;124m'\u001b[39m, \u001b[38;5;241m60000\u001b[39m, \u001b[38;5;124m'\u001b[39m\u001b[38;5;124mjava\u001b[39m\u001b[38;5;124m'\u001b[39m)\n",
      "\u001b[1;31mNameError\u001b[0m: name 'Developer' is not defined"
     ]
    }
   ],
   "source": [
    "class Employee:\n",
    "    raise_amt = 1.04\n",
    "    \n",
    "    def __init__(self,first,last,pay):\n",
    "        self.first = first\n",
    "        self.last = last \n",
    "        self.email = first + '.' + last + '@email.com'\n",
    "        self.pay = pay\n",
    "        \n",
    "    def fullname(self):\n",
    "        return '{}{}',format(self.first,self.last)\n",
    "    def apply_raise(self):\n",
    "        self.pay = int(self.pay * self.raise_amt)\n",
    "        \n",
    "class Developer(Employee):\n",
    "    raise_amt = 1.10\n",
    "    \n",
    "    def __init__(self,first,last,pay,prog_lang):\n",
    "        super().__init__(first,last,pay)#calling parents(Employee) init method\n",
    "        self.pro_lang = prog_lang\n",
    "\n",
    "    dev_1 = Developer('corey', 'schefer', 50000, 'python')\n",
    "    dev_2 = Developer ('test', 'employee', 60000, 'java')\n",
    "    \n",
    "class Manager(Employee):\n",
    "    def __init__(self,first,last,pay,employees =None):\n",
    "        super().__init__(first,last,pay)#calling parents(Employee) init method\n",
    "        if employees is None: \n",
    "            self.employees =[]\n",
    "        else:\n",
    "            self.employees = employees \n",
    "            \n",
    "    def add_emp(self, emp):\n",
    "        if emp not in self.employees:\n",
    "            self.employees.append(emp)\n",
    "            \n",
    "    def remove_emp(self,emp):\n",
    "        if emp in self.employees:\n",
    "            self.employees.remove(emp)\n",
    "            \n",
    "    def print_emp(self):\n",
    "        for emp in self.employees:\n",
    "            print('--->,', emp.fullname())\n",
    "            \n",
    "manager_1 = Manager('sue', 'smith', 9000, [dev_1])\n",
    "print (manager_one.email)\n",
    "\n",
    "manager_1.add_emp(dev_2)\n",
    "manager_1.remove_emp(dev_1)\n",
    "manager_1.print_emps()            \n",
    "    \n",
    "#print(help(Developer))\n",
    "#print(dev_1.pay)\n",
    "#dev_1.apply_raise()\n",
    "#print(dev_1.pay) \n",
    "print (dev_1.email)\n",
    "print (dev_1.prog_lang)"
   ]
  },
  {
   "cell_type": "code",
   "execution_count": 75,
   "id": "3b710b2d",
   "metadata": {},
   "outputs": [],
   "source": [
    "#isinstance: if an objeect is an instance of a class\n",
    "    #print(isinstance(manager_1,dev_1)\n",
    "          #if a class is a subclass of another \n",
    "          #print(issubclass(manager, employee)"
   ]
  },
  {
   "cell_type": "code",
   "execution_count": null,
   "id": "4a401d20",
   "metadata": {},
   "outputs": [],
   "source": []
  }
 ],
 "metadata": {
  "kernelspec": {
   "display_name": "Python 3 (ipykernel)",
   "language": "python",
   "name": "python3"
  },
  "language_info": {
   "codemirror_mode": {
    "name": "ipython",
    "version": 3
   },
   "file_extension": ".py",
   "mimetype": "text/x-python",
   "name": "python",
   "nbconvert_exporter": "python",
   "pygments_lexer": "ipython3",
   "version": "3.9.12"
  }
 },
 "nbformat": 4,
 "nbformat_minor": 5
}
