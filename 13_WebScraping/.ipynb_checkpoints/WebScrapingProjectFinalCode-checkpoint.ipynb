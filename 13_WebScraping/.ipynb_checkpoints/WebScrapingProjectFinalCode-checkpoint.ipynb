{
 "cells": [
  {
   "cell_type": "markdown",
   "metadata": {},
   "source": [
    "Data Science Fundamentals: Python |\n",
    "[Table of Contents](../index.ipynb)\n",
    "- - - \n",
    "<!--NAVIGATION-->\n",
    "Module 13. | \n",
    "[WebScraping Project Part 1](./WebScrapingProjectPart1.ipynb) | [WebScraping Project Part 2](./WebScrapingProjectPart2.ipynb)  | [WebScraping Project Part 3](./WebScrapingProjectPart3.ipynb) | **[WebScraping Project Final Code](./WebScrapingProjectFinalCode.ipynb)**\n",
    "\n",
    "- - -"
   ]
  },
  {
   "cell_type": "markdown",
   "metadata": {},
   "source": [
    "This document is for your to utilize for your final code for your webscraping project. Format and annotate it as you please."
   ]
  },
  {
   "cell_type": "code",
   "execution_count": null,
   "metadata": {},
   "outputs": [],
   "source": []
  }
 ],
 "metadata": {
  "kernelspec": {
   "display_name": "Python 3",
   "language": "python",
   "name": "python3"
  },
  "language_info": {
   "codemirror_mode": {
    "name": "ipython",
    "version": 3
   },
   "file_extension": ".py",
   "mimetype": "text/x-python",
   "name": "python",
   "nbconvert_exporter": "python",
   "pygments_lexer": "ipython3",
   "version": "3.8.3"
  }
 },
 "nbformat": 4,
 "nbformat_minor": 4
}
