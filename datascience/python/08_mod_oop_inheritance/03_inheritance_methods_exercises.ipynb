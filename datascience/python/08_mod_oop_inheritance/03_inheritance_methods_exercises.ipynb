{
 "cells": [
  {
   "cell_type": "markdown",
   "metadata": {},
   "source": [
    "Data Science Fundamentals: Python |\n",
    "[Table of Contents](../index.ipynb)\n",
    "- - - \n",
    "<!--NAVIGATION-->\n",
    "Module 8. | [Inheritance & Methods](./01_oop_inheritance.ipynb) | [Sequences, Iterables, Generators Revisited](02_revisited.ipynb) | **[Exercises](./03_inheritance_methods_exercises.ipynb)**"
   ]
  },
  {
   "cell_type": "markdown",
   "metadata": {},
   "source": [
    "# Module 8: Practice Exercises"
   ]
  },
  {
   "cell_type": "markdown",
   "metadata": {},
   "source": [
    "## Exercise 1. "
   ]
  },
  {
   "cell_type": "markdown",
   "metadata": {},
   "source": [
    "You are given two classes, Person and Student, where Person is the base class and Student is the derived class. Completed code for Person and a declaration for Student are provided for you in the editor. Observe that Student inherits all the properties of Person.\n",
    "\n",
    "Complete the Student class by writing the following:\n",
    "\n",
    "A Student class constructor, which has 4 parameters:\n",
    "- A string, firstName\n",
    "- A string, lastName\n",
    "- An integer, id\n",
    "An integer array (or vector) of test scores, scores\n",
    "\n",
    "A char **calculate()** method that calculates a Student object's average and returns the grade character representative of their calculated average:\n",
    "```\n",
    "A | 90-100\n",
    "B | 80-89\n",
    "C | 70-79\n",
    "D | 60-69\n",
    "F | <60\n",
    "```"
   ]
  },
  {
   "cell_type": "code",
   "execution_count": 3,
   "metadata": {},
   "outputs": [
    {
     "name": "stdout",
     "output_type": "stream",
     "text": [
      "First Name: s\n",
      "Last Name: r\n",
      "Student ID:12\n",
      "Enter a list of grades separated by a list: 90 45 45 45\n"
     ]
    },
    {
     "data": {
      "text/plain": [
       "'F'"
      ]
     },
     "execution_count": 3,
     "metadata": {},
     "output_type": "execute_result"
    }
   ],
   "source": [
    "class Person:\n",
    "    \n",
    "    def __init__(self,fname,lname): \n",
    "        self.fname = fname\n",
    "        self.lname = lname\n",
    "        \n",
    "        \n",
    "    #def printPerson(self):\n",
    "        #print(\"Name:\", self.fname + \",\", self.lname)\n",
    "        #print(\"ID#:\", self.idnum)\n",
    "    \n",
    "    #def desc(self):\n",
    "        #desc_person = \"%s %s is a Person.\" % (self.fname, self.lname)\n",
    "        #return desc_person \n",
    "    \n",
    "   \n",
    "class Student(Person):\n",
    "\n",
    "\n",
    "    def __init__(self,fname,lname,idnum):\n",
    "        #super().__init__(fname,lname)\n",
    "        self.fname = fname \n",
    "        self.lname = lname\n",
    "        self.idnum = idnum \n",
    "    #def idnum(self):\n",
    "        #self.idnum = string (idnum)\n",
    "        \n",
    "    \n",
    "    #def desc(self):\n",
    "        #desc_person = \"%s %s is a Student.\" % (self.fname,self.lname,self.idnum)\n",
    "        #return desc_person \n",
    "    \n",
    "        \n",
    "    \n",
    "    \n",
    "        \n",
    "\n",
    "   \n",
    "    def calculate(self, avg):\n",
    "        x = 0\n",
    "        for grade in grades:\n",
    "            x += grade\n",
    "        total_average = x/len(grades)\n",
    "        \n",
    "        if total_average >= 90:\n",
    "            return 'A'\n",
    "        elif total_average >=80:\n",
    "            return 'B'\n",
    "        elif total_average >=70:\n",
    "            return 'C'\n",
    "        elif total_average >=60:\n",
    "            return 'D'\n",
    "        \n",
    "        else:\n",
    "            return 'F'\n",
    "        \n",
    "        \n",
    "        \n",
    "student1 = Student(str(input('First Name: ')), str(input('Last Name: ')), int(input('Student ID:')))\n",
    "grades = input(\"Enter a list of grades separated by a list: \")\n",
    "grades = list(map(int, grades.split()) )\n",
    "student1.calculate(grades)\n",
    "\n"
   ]
  },
  {
   "cell_type": "code",
   "execution_count": null,
   "metadata": {},
   "outputs": [],
   "source": [
    "\n",
    "\n",
    "\n"
   ]
  },
  {
   "cell_type": "code",
   "execution_count": null,
   "metadata": {},
   "outputs": [],
   "source": []
  },
  {
   "cell_type": "code",
   "execution_count": null,
   "metadata": {},
   "outputs": [],
   "source": []
  },
  {
   "cell_type": "code",
   "execution_count": null,
   "metadata": {},
   "outputs": [],
   "source": []
  },
  {
   "cell_type": "markdown",
   "metadata": {},
   "source": [
    "[How To Submit Your Exercises](https://www.youtube.com/watch?v=GCd4auHwZZY)"
   ]
  },
  {
   "cell_type": "markdown",
   "metadata": {},
   "source": [
    "- - - \n",
    "<!--NAVIGATION-->\n",
    "Module 8. | [Inheritance & Methods](./01_oop_inheritance.ipynb) | [Sequences, Iterables, Generators Revisited](02_revisited.ipynb) | **[Exercises](./03_inheritance_methods_exercises.ipynb)**\n",
    "<br>\n",
    "[Top](#)"
   ]
  },
  {
   "cell_type": "markdown",
   "metadata": {},
   "source": [
    "- - -\n",
    "\n",
    "Copyright © 2020 Qualex Consulting Services Incorporated."
   ]
  },
  {
   "cell_type": "code",
   "execution_count": 117,
   "metadata": {},
   "outputs": [
    {
     "name": "stdout",
     "output_type": "stream",
     "text": [
      "s\n"
     ]
    },
    {
     "ename": "NameError",
     "evalue": "name 'lname' is not defined",
     "output_type": "error",
     "traceback": [
      "\u001b[1;31m---------------------------------------------------------------------------\u001b[0m",
      "\u001b[1;31mNameError\u001b[0m                                 Traceback (most recent call last)",
      "Input \u001b[1;32mIn [117]\u001b[0m, in \u001b[0;36m<cell line: 65>\u001b[1;34m()\u001b[0m\n\u001b[0;32m     63\u001b[0m line \u001b[38;5;241m=\u001b[39m \u001b[38;5;28minput\u001b[39m()\u001b[38;5;241m.\u001b[39msplit()\n\u001b[0;32m     64\u001b[0m fname \u001b[38;5;241m=\u001b[39m line[\u001b[38;5;241m0\u001b[39m]\n\u001b[1;32m---> 65\u001b[0m \u001b[43mlname\u001b[49m\u001b[38;5;241m.\u001b[39mappend(index[\u001b[38;5;241m1\u001b[39m])\n\u001b[0;32m     66\u001b[0m idnum \u001b[38;5;241m=\u001b[39m line[\u001b[38;5;241m2\u001b[39m]\n\u001b[0;32m     67\u001b[0m grades \u001b[38;5;241m=\u001b[39m \u001b[38;5;28mlist\u001b[39m(\u001b[38;5;28mmap\u001b[39m(\u001b[38;5;28mint\u001b[39m, \u001b[38;5;28minput\u001b[39m()\u001b[38;5;241m.\u001b[39msplit()) )\n",
      "\u001b[1;31mNameError\u001b[0m: name 'lname' is not defined"
     ]
    }
   ],
   "source": []
  },
  {
   "cell_type": "code",
   "execution_count": 107,
   "metadata": {},
   "outputs": [],
   "source": [
    "#person1 = Person('Gary', 'Johnson')\n",
    "#person2 = Student('Gary', 'Johnson', 123)"
   ]
  },
  {
   "cell_type": "code",
   "execution_count": 109,
   "metadata": {},
   "outputs": [],
   "source": [
    "#print(person1.desc())\n",
    "#print(person2.desc())"
   ]
  },
  {
   "cell_type": "code",
   "execution_count": null,
   "metadata": {},
   "outputs": [],
   "source": []
  },
  {
   "cell_type": "code",
   "execution_count": null,
   "metadata": {},
   "outputs": [],
   "source": []
  },
  {
   "cell_type": "code",
   "execution_count": null,
   "metadata": {},
   "outputs": [],
   "source": []
  },
  {
   "cell_type": "code",
   "execution_count": null,
   "metadata": {},
   "outputs": [],
   "source": []
  },
  {
   "cell_type": "code",
   "execution_count": null,
   "metadata": {},
   "outputs": [],
   "source": []
  },
  {
   "cell_type": "code",
   "execution_count": null,
   "metadata": {},
   "outputs": [],
   "source": []
  },
  {
   "cell_type": "code",
   "execution_count": null,
   "metadata": {},
   "outputs": [],
   "source": []
  }
 ],
 "metadata": {
  "kernelspec": {
   "display_name": "Python 3 (ipykernel)",
   "language": "python",
   "name": "python3"
  },
  "language_info": {
   "codemirror_mode": {
    "name": "ipython",
    "version": 3
   },
   "file_extension": ".py",
   "mimetype": "text/x-python",
   "name": "python",
   "nbconvert_exporter": "python",
   "pygments_lexer": "ipython3",
   "version": "3.9.12"
  }
 },
 "nbformat": 4,
 "nbformat_minor": 4
}
