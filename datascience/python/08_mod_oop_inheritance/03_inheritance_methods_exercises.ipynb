{
 "cells": [
  {
   "cell_type": "markdown",
   "metadata": {},
   "source": [
    "Data Science Fundamentals: Python |\n",
    "[Table of Contents](../index.ipynb)\n",
    "- - - \n",
    "<!--NAVIGATION-->\n",
    "Module 8. | [Inheritance & Methods](./01_oop_inheritance.ipynb) | [Sequences, Iterables, Generators Revisited](02_revisited.ipynb) | **[Exercises](./03_inheritance_methods_exercises.ipynb)**"
   ]
  },
  {
   "cell_type": "markdown",
   "metadata": {},
   "source": [
    "# Module 8: Practice Exercises"
   ]
  },
  {
   "cell_type": "markdown",
   "metadata": {},
   "source": [
    "## Exercise 1. "
   ]
  },
  {
   "cell_type": "markdown",
   "metadata": {},
   "source": [
    "You are given two classes, Person and Student, where Person is the base class and Student is the derived class. Completed code for Person and a declaration for Student are provided for you in the editor. Observe that Student inherits all the properties of Person.\n",
    "\n",
    "Complete the Student class by writing the following:\n",
    "\n",
    "A Student class constructor, which has 4 parameters:\n",
    "- A string, firstName\n",
    "- A string, lastName\n",
    "- An integer, id\n",
    "An integer array (or vector) of test scores, scores\n",
    "\n",
    "A char **calculate()** method that calculates a Student object's average and returns the grade character representative of their calculated average:\n",
    "```\n",
    "A | 90-100\n",
    "B | 80-89\n",
    "C | 70-79\n",
    "D | 60-69\n",
    "F | <60\n",
    "```"
   ]
  },
  {
   "cell_type": "code",
   "execution_count": 131,
   "metadata": {},
   "outputs": [],
   "source": [
    "# define the Person class\n",
    "\n",
    "class Person:\n",
    "    fname = \"\"\n",
    "    lname = \"\"\n",
    "    idnum = \"\" \n",
    "    \n",
    "    \n",
    "    def __init__(self,fname,lname,idnum): \n",
    "        self.fname = fname\n",
    "        self.lname = lname\n",
    "        self.idnum = idnum\n",
    " \n",
    "    def desc(self):\n",
    "        desc_person = \"%s %s is a student.\" % (self.fname, self.lname, self.idnum)\n",
    "        return desc_person\n",
    "       \n",
    "\n",
    "class Student(Person):\n",
    "\n",
    "    def __init__(self,fname,lname,idnum,grades):\n",
    "        super().__init__(fname,lname,idnum)\n",
    "        self.grades = grades\n",
    "    #student = Student('Gary', 'Jackson', )\n",
    "        \n",
    "    def desc(self):\n",
    "        desc_person = \"%s %s is a student.\" % (self.fname, self.lname, self.idnum)\n",
    "        return desc_person\n",
    "    \n",
    "        \n",
    "class Grades(Student):\n",
    "    def __init__(self,fname,laname,idnum,grades):\n",
    "        super().__init__(fname,lname,idnum,grades)\n",
    "        self.grades = grades\n",
    "   \n",
    "    def calculate(self):\n",
    "        total = 0\n",
    "        #for grades in self.grades\n",
    "        total += grades\n",
    "        if 90 <= avg <= 100:\n",
    "            return 'O'\n",
    "        if 80 <= avg < 90:\n",
    "                return 'E'\n",
    "        if 70 <= avg < 80:\n",
    "            return 'A'\n",
    "        if 55 <= avg < 70:\n",
    "            return 'P'\n",
    "        if 40 <= avg < 55:\n",
    "            return 'D'\n",
    "        return 'T'    \n",
    "        \n",
    "#print(\"Grade:\", s.calculate())\n",
    "\n",
    "def desc(self):\n",
    "    desc_person = \"%s %s has grades.\" % (self.fname, self.lname, self.idnum, self.grades)\n",
    "    return desc_person\n"
   ]
  },
  {
   "cell_type": "code",
   "execution_count": 129,
   "metadata": {},
   "outputs": [],
   "source": [
    "\n",
    "\n",
    "\n",
    "# your code goes here\n",
    "#person1 = Person(fname,lname,idnum)\n",
    "#person1.fname = \"Gary\"\n",
    "#person1.lname = \"Jackson\"\n",
    "#person1.idnum = \"0121\"\n",
    "\n",
    "#person2 = Student(fname,lname,idnum)\n",
    "#person2.fname = \"Gary\"\n",
    "#person2.lname = \"Jackson\"\n",
    "\n",
    "#person3 = Grades(fname,l)\n",
    "#person3.fname = \"Gary\"\n",
    "#person3.lname = \"Jackson\""
   ]
  },
  {
   "cell_type": "code",
   "execution_count": 112,
   "metadata": {},
   "outputs": [],
   "source": [
    "# test code\n",
    "#print(person1.desc())\n",
    "#print(person2.desc())\n",
    "#print(person3.desc())"
   ]
  },
  {
   "cell_type": "code",
   "execution_count": null,
   "metadata": {},
   "outputs": [],
   "source": []
  },
  {
   "cell_type": "code",
   "execution_count": null,
   "metadata": {},
   "outputs": [],
   "source": []
  },
  {
   "cell_type": "markdown",
   "metadata": {},
   "source": [
    "[How To Submit Your Exercises](https://www.youtube.com/watch?v=GCd4auHwZZY)"
   ]
  },
  {
   "cell_type": "markdown",
   "metadata": {},
   "source": [
    "- - - \n",
    "<!--NAVIGATION-->\n",
    "Module 8. | [Inheritance & Methods](./01_oop_inheritance.ipynb) | [Sequences, Iterables, Generators Revisited](02_revisited.ipynb) | **[Exercises](./03_inheritance_methods_exercises.ipynb)**\n",
    "<br>\n",
    "[Top](#)"
   ]
  },
  {
   "cell_type": "markdown",
   "metadata": {},
   "source": [
    "- - -\n",
    "\n",
    "Copyright © 2020 Qualex Consulting Services Incorporated."
   ]
  },
  {
   "cell_type": "code",
   "execution_count": null,
   "metadata": {},
   "outputs": [],
   "source": []
  },
  {
   "cell_type": "code",
   "execution_count": null,
   "metadata": {},
   "outputs": [],
   "source": []
  },
  {
   "cell_type": "code",
   "execution_count": null,
   "metadata": {},
   "outputs": [],
   "source": []
  },
  {
   "cell_type": "code",
   "execution_count": null,
   "metadata": {},
   "outputs": [],
   "source": []
  },
  {
   "cell_type": "code",
   "execution_count": null,
   "metadata": {},
   "outputs": [],
   "source": []
  },
  {
   "cell_type": "code",
   "execution_count": null,
   "metadata": {},
   "outputs": [],
   "source": []
  },
  {
   "cell_type": "code",
   "execution_count": null,
   "metadata": {},
   "outputs": [],
   "source": []
  },
  {
   "cell_type": "code",
   "execution_count": null,
   "metadata": {},
   "outputs": [],
   "source": []
  }
 ],
 "metadata": {
  "kernelspec": {
   "display_name": "Python 3 (ipykernel)",
   "language": "python",
   "name": "python3"
  },
  "language_info": {
   "codemirror_mode": {
    "name": "ipython",
    "version": 3
   },
   "file_extension": ".py",
   "mimetype": "text/x-python",
   "name": "python",
   "nbconvert_exporter": "python",
   "pygments_lexer": "ipython3",
   "version": "3.9.12"
  }
 },
 "nbformat": 4,
 "nbformat_minor": 4
}
