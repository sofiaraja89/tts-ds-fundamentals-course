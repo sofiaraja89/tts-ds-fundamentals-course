{
 "cells": [
  {
   "cell_type": "markdown",
   "metadata": {},
   "source": [
    "Data Science Fundamentals: Python |\n",
    "[Table of Contents](../index.ipynb)\n",
    "- - - \n",
    "<!--NAVIGATION-->\n",
    "Module 8. | [Inheritance & Methods](./01_oop_inheritance.ipynb) | [Sequences, Iterables, Generators Revisited](02_revisited.ipynb) | **[Exercises](./03_inheritance_methods_exercises.ipynb)**"
   ]
  },
  {
   "cell_type": "markdown",
   "metadata": {},
   "source": [
    "# Module 8: Practice Exercises"
   ]
  },
  {
   "cell_type": "markdown",
   "metadata": {},
   "source": [
    "## Exercise 1. "
   ]
  },
  {
   "cell_type": "markdown",
   "metadata": {},
   "source": [
    "You are given two classes, Person and Student, where Person is the base class and Student is the derived class. Completed code for Person and a declaration for Student are provided for you in the editor. Observe that Student inherits all the properties of Person.\n",
    "\n",
    "Complete the Student class by writing the following:\n",
    "\n",
    "A Student class constructor, which has 4 parameters:\n",
    "- A string, firstName\n",
    "- A string, lastName\n",
    "- An integer, id\n",
    "An integer array (or vector) of test scores, scores\n",
    "\n",
    "A char **calculate()** method that calculates a Student object's average and returns the grade character representative of their calculated average:\n",
    "```\n",
    "A | 90-100\n",
    "B | 80-89\n",
    "C | 70-79\n",
    "D | 60-69\n",
    "F | <60\n",
    "```"
   ]
  },
  {
   "cell_type": "code",
   "execution_count": 170,
   "metadata": {},
   "outputs": [],
   "source": [
    "# define the Person class\n",
    "\n",
    "class Person:\n",
    "    \n",
    "    def __init__(self,fname,lname): \n",
    "        self.fname = fname\n",
    "        self.lname = lname\n",
    "        \n",
    "        \n",
    "    #def printPerson(self):\n",
    "        #print(\"Name:\", self.fname + \",\", self.lname)\n",
    "        #print(\"ID#:\", self.idnum)\n",
    "    \n",
    "    def desc(self):\n",
    "        desc_person = \"%s %s is a Person.\" % (self.fname, self.lname)\n",
    "        return desc_person \n",
    "    \n",
    "   \n",
    "class Student(Person):\n",
    "\n",
    "\n",
    "    def __init__(self,fname,lname,idnum):\n",
    "        super().__init__(fname,lname)\n",
    "        self.idnum = idnum\n",
    "        \n",
    "    def desc(self):\n",
    "        desc_person = \"%s %s is a Student.\" % (self.fname, self.lname. self.idnum)\n",
    "        return desc_person \n",
    "    \n",
    "        \n",
    "    \n",
    "    \n",
    "        \n",
    "class Grades(Student):\n",
    "    def __init__(self,fname,lname,idnum,grades):\n",
    "        super().__init__(fname,lname,idnum)\n",
    "        self.grades = grades\n",
    "       \n",
    "   \n",
    "    def calculate(self):\n",
    "        sum = 0\n",
    "        for grade in grades:\n",
    "            sum += grade\n",
    "        total_average = sum/len(grades)\n",
    "        \n",
    "        if total_average >= 90:\n",
    "            return 'A'\n",
    "        elif total_average >=80:\n",
    "            return 'B'\n",
    "        elif total_average >=70:\n",
    "            return 'C'\n",
    "        elif total_average >=60:\n",
    "            return 'D'\n",
    "        \n",
    "        else:\n",
    "            return 'F'\n",
    "\n",
    "#line = input().split()\n",
    "#fname = line[0]\n",
    "#lname = line[1]\n",
    "#idnum = line[2]\n",
    "#grades = list(map(int, input().split()) )\n",
    "#s = Student(fname,lname,idnum,grades)\n",
    "#s.printPerson()\n",
    "#print(\"Grade:\", s.calculate())        \n",
    "#print(total_average)\n",
    "\n",
    "#def desc(self):\n",
    "    #desc_person = \"%s %s has grades.\" % (self.fname, self.lname, self.idnum, self.grades)\n",
    "    #return desc_person\n"
   ]
  },
  {
   "cell_type": "code",
   "execution_count": 171,
   "metadata": {},
   "outputs": [],
   "source": [
    "\n",
    "\n",
    "\n",
    "# your code goes here\n",
    "#erson1 = Person()\n",
    "#erson1.fname = \"Gary\"\n",
    "#person1.lname = \"Jackson\"\n",
    "person1 = Person('Gary', 'Johnson')\n",
    "\n",
    "#person2 = Student(fname,lname,idnum)\n",
    "#person2.fname = \"Gary\"\n",
    "#person2.lname = \"Jackson\"\n",
    "#person2.idnum = 123\n",
    "person2 = Student('Gary', 'Johnson', '123')\n",
    "\n",
    "#person3 = Grades(fname,l)\n",
    "#person3.fname = \"Gary\"\n",
    "#person3.lname = \"Jackson\""
   ]
  },
  {
   "cell_type": "code",
   "execution_count": 172,
   "metadata": {},
   "outputs": [
    {
     "name": "stdout",
     "output_type": "stream",
     "text": [
      "Gary Johnson is a Person.\n"
     ]
    },
    {
     "ename": "AttributeError",
     "evalue": "'str' object has no attribute 'self'",
     "output_type": "error",
     "traceback": [
      "\u001b[1;31m---------------------------------------------------------------------------\u001b[0m",
      "\u001b[1;31mAttributeError\u001b[0m                            Traceback (most recent call last)",
      "Input \u001b[1;32mIn [172]\u001b[0m, in \u001b[0;36m<cell line: 3>\u001b[1;34m()\u001b[0m\n\u001b[0;32m      1\u001b[0m \u001b[38;5;66;03m# test code\u001b[39;00m\n\u001b[0;32m      2\u001b[0m \u001b[38;5;28mprint\u001b[39m(person1\u001b[38;5;241m.\u001b[39mdesc())\n\u001b[1;32m----> 3\u001b[0m \u001b[38;5;28mprint\u001b[39m(\u001b[43mperson2\u001b[49m\u001b[38;5;241;43m.\u001b[39;49m\u001b[43mdesc\u001b[49m\u001b[43m(\u001b[49m\u001b[43m)\u001b[49m)\n",
      "Input \u001b[1;32mIn [170]\u001b[0m, in \u001b[0;36mStudent.desc\u001b[1;34m(self)\u001b[0m\n\u001b[0;32m     26\u001b[0m \u001b[38;5;28;01mdef\u001b[39;00m \u001b[38;5;21mdesc\u001b[39m(\u001b[38;5;28mself\u001b[39m):\n\u001b[1;32m---> 27\u001b[0m     desc_person \u001b[38;5;241m=\u001b[39m \u001b[38;5;124m\"\u001b[39m\u001b[38;5;132;01m%s\u001b[39;00m\u001b[38;5;124m \u001b[39m\u001b[38;5;132;01m%s\u001b[39;00m\u001b[38;5;124m is a Student.\u001b[39m\u001b[38;5;124m\"\u001b[39m \u001b[38;5;241m%\u001b[39m (\u001b[38;5;28mself\u001b[39m\u001b[38;5;241m.\u001b[39mfname, \u001b[38;5;28;43mself\u001b[39;49m\u001b[38;5;241;43m.\u001b[39;49m\u001b[43mlname\u001b[49m\u001b[38;5;241;43m.\u001b[39;49m\u001b[43m \u001b[49m\u001b[38;5;28;43mself\u001b[39;49m\u001b[38;5;241m.\u001b[39midnum)\n\u001b[0;32m     28\u001b[0m     \u001b[38;5;28;01mreturn\u001b[39;00m desc_person\n",
      "\u001b[1;31mAttributeError\u001b[0m: 'str' object has no attribute 'self'"
     ]
    }
   ],
   "source": [
    "# test code\n",
    "print(person1.desc())\n",
    "print(person2.desc())\n",
    "#print(person3.desc())"
   ]
  },
  {
   "cell_type": "code",
   "execution_count": null,
   "metadata": {},
   "outputs": [],
   "source": []
  },
  {
   "cell_type": "code",
   "execution_count": null,
   "metadata": {},
   "outputs": [],
   "source": []
  },
  {
   "cell_type": "markdown",
   "metadata": {},
   "source": [
    "[How To Submit Your Exercises](https://www.youtube.com/watch?v=GCd4auHwZZY)"
   ]
  },
  {
   "cell_type": "markdown",
   "metadata": {},
   "source": [
    "- - - \n",
    "<!--NAVIGATION-->\n",
    "Module 8. | [Inheritance & Methods](./01_oop_inheritance.ipynb) | [Sequences, Iterables, Generators Revisited](02_revisited.ipynb) | **[Exercises](./03_inheritance_methods_exercises.ipynb)**\n",
    "<br>\n",
    "[Top](#)"
   ]
  },
  {
   "cell_type": "markdown",
   "metadata": {},
   "source": [
    "- - -\n",
    "\n",
    "Copyright © 2020 Qualex Consulting Services Incorporated."
   ]
  },
  {
   "cell_type": "code",
   "execution_count": null,
   "metadata": {},
   "outputs": [],
   "source": []
  },
  {
   "cell_type": "code",
   "execution_count": null,
   "metadata": {},
   "outputs": [],
   "source": []
  },
  {
   "cell_type": "code",
   "execution_count": null,
   "metadata": {},
   "outputs": [],
   "source": []
  },
  {
   "cell_type": "code",
   "execution_count": null,
   "metadata": {},
   "outputs": [],
   "source": []
  },
  {
   "cell_type": "code",
   "execution_count": null,
   "metadata": {},
   "outputs": [],
   "source": []
  },
  {
   "cell_type": "code",
   "execution_count": null,
   "metadata": {},
   "outputs": [],
   "source": []
  },
  {
   "cell_type": "code",
   "execution_count": null,
   "metadata": {},
   "outputs": [],
   "source": []
  },
  {
   "cell_type": "code",
   "execution_count": null,
   "metadata": {},
   "outputs": [],
   "source": []
  },
  {
   "cell_type": "code",
   "execution_count": null,
   "metadata": {},
   "outputs": [],
   "source": []
  },
  {
   "cell_type": "code",
   "execution_count": null,
   "metadata": {},
   "outputs": [],
   "source": []
  }
 ],
 "metadata": {
  "kernelspec": {
   "display_name": "Python 3 (ipykernel)",
   "language": "python",
   "name": "python3"
  },
  "language_info": {
   "codemirror_mode": {
    "name": "ipython",
    "version": 3
   },
   "file_extension": ".py",
   "mimetype": "text/x-python",
   "name": "python",
   "nbconvert_exporter": "python",
   "pygments_lexer": "ipython3",
   "version": "3.9.12"
  }
 },
 "nbformat": 4,
 "nbformat_minor": 4
}
