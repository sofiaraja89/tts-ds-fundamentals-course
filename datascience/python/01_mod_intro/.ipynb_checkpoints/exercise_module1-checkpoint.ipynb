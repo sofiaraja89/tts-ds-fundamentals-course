{
 "cells": [
  {
   "cell_type": "markdown",
   "metadata": {},
   "source": [
    "Data Science Fundamentals: Python |\n",
    "[Table of Contents](../index.ipynb)\n",
    "- - - \n",
    "<!--NAVIGATION-->\n",
    "Module 1. [Basic Python Syntax](./01_mod_python_syntax.ipynb) | [Variables and Objects](./02_python_variables_objects.ipynb) | [Operators](./03_python_operators.ipynb) | **[Exercises](./04_mod_practice.ipynb)**"
   ]
  },
  {
   "cell_type": "markdown",
   "metadata": {},
   "source": [
    "# Module 1: Practice Exercises"
   ]
  },
  {
   "cell_type": "markdown",
   "metadata": {},
   "source": [
    "1. Accept the user's first and last name and print them in reverse order with a space between them"
   ]
  },
  {
   "cell_type": "code",
   "execution_count": 35,
   "metadata": {},
   "outputs": [
    {
     "name": "stdout",
     "output_type": "stream",
     "text": [
      "Enter your first name : tech\n",
      "Enter your last name :  south\n",
      "south tech\n"
     ]
    }
   ],
   "source": [
    "# First name entered, and using \"input\" lets the system know that the user needs to enter a value\n",
    "first_name = input(\"Enter your first name : \"  ) \n",
    "\n",
    "#Last name entered, and using \"input\" lets the system know that the user needs to enter a value\n",
    "last_name = input(\"Enter your last name :  \") \n",
    "\n",
    "# Print out last name and first name with a space \n",
    "print (last_name  + \" \" + first_name)"
   ]
  },
  {
   "cell_type": "markdown",
   "metadata": {},
   "source": [
    "2. Accept an integer (n) and compute the value of n+nn+nnn"
   ]
  },
  {
   "cell_type": "code",
   "execution_count": 36,
   "metadata": {},
   "outputs": [
    {
     "name": "stdout",
     "output_type": "stream",
     "text": [
      "Enter a number:5\n",
      "615\n"
     ]
    }
   ],
   "source": [
    "#Accept an integer for \"n\" from the user and then compute the value of \"n+nn+nnn\"\n",
    "\n",
    "#number is entered by user, \"number\" is the name given to the input statmenet, and input is to let python know that the user needs to enter a value\n",
    "number=int(input(\"Enter a number:\")) \n",
    "\n",
    "#need to convert the value entered for \"n\" to a string in order to create a concatenation, so all \"n\" values calcualte correctly \n",
    "temp_num=str(number) \n",
    "\n",
    "#add the string value of \"nn\" (twice), stored inside temp_num \n",
    "temp_num1=temp_num+temp_num \n",
    "\n",
    "# add the string value of \"nnn\" (three times), stored insisde temp_num2\n",
    "temp_num_2=temp_num+temp_num+temp_num \n",
    "\n",
    "#perfom the calcualtion for \"n+nn+nnn\"\n",
    "#number = n \n",
    "#temp_num = nn, gets converted back to integar using int(temp_num)\n",
    "#temp_num 2 = nnn, gets converted back to integar using int(temp_num2)\n",
    "calculation= number+int(temp_num1)+int(temp_num_2)\n",
    "\n",
    "#Print out the calculation \n",
    "print (calculation)"
   ]
  },
  {
   "cell_type": "markdown",
   "metadata": {},
   "source": [
    "3. Ask the user \"What country are you from?\" then print the following statement: \"I have heard that [input] is a beautiful country!\""
   ]
  },
  {
   "cell_type": "code",
   "execution_count": 37,
   "metadata": {},
   "outputs": [
    {
     "name": "stdout",
     "output_type": "stream",
     "text": [
      "What country are you from? Pakistan\n",
      "I have heard that Pakistan is a beautiful country\n"
     ]
    }
   ],
   "source": [
    "#Ask the user \"What country are you from?\" then print the following statement: \"I have heard that [input] is a beautiful country!\"\n",
    "\n",
    "#Ask user to enter(input) a \"country\" to answer the question\n",
    "country= input(\"What country are you from? \")\n",
    "\n",
    "#Print the name of the \"country\" the user entered, along with statement saying what was heard about the \"country\" entered\n",
    "print(\"I have heard that\" + \" \"+ country+ \" \" + \"is a beautiful country\")"
   ]
  },
  {
   "cell_type": "code",
   "execution_count": null,
   "metadata": {},
   "outputs": [],
   "source": [
    "4. Is a String Immutable in Python? \n",
    "#String is immutable in Python because it can not be changed"
   ]
  },
  {
   "cell_type": "markdown",
   "metadata": {},
   "source": [
    "5. What is the output of x AND explain why that is the output for: \n",
    "x = 36 / 4 * (3 +  2) * 4 + 2"
   ]
  },
  {
   "cell_type": "code",
   "execution_count": 3,
   "metadata": {},
   "outputs": [],
   "source": [
    "x = 36 / 4 * (3 + 2) * 4 + 2"
   ]
  },
  {
   "cell_type": "code",
   "execution_count": 4,
   "metadata": {},
   "outputs": [
    {
     "name": "stdout",
     "output_type": "stream",
     "text": [
      "182.0\n"
     ]
    }
   ],
   "source": [
    "#The answer is 182 because it works through PEMDAS\n",
    "print (x) "
   ]
  },
  {
   "cell_type": "markdown",
   "metadata": {},
   "source": [
    "6. Write a for loop that multiplies the number 4 by all the integers from 0 to 10 and prints the following for each: \"4 multiplied by [i] is [x]\" "
   ]
  },
  {
   "cell_type": "code",
   "execution_count": 21,
   "metadata": {},
   "outputs": [
    {
     "name": "stdout",
     "output_type": "stream",
     "text": [
      "4 multiplied by 0 is 0\n",
      "4 multiplied by 1 is 4\n",
      "4 multiplied by 2 is 8\n",
      "4 multiplied by 3 is 12\n",
      "4 multiplied by 4 is 16\n",
      "4 multiplied by 5 is 20\n",
      "4 multiplied by 6 is 24\n",
      "4 multiplied by 7 is 28\n",
      "4 multiplied by 8 is 32\n",
      "4 multiplied by 9 is 36\n",
      "4 multiplied by 10 is 40\n"
     ]
    }
   ],
   "source": [
    "#Integers that will be multiplied by the number 4\n",
    "for number in [0,1,2,3,4,5,6,7,8,9,10]:\n",
    "    multiply = number*4 #Multiplication between the integer from the list above and 4\n",
    "    print(\"4 multiplied by\", + number,  \"is\", + multiply)"
   ]
  },
  {
   "cell_type": "markdown",
   "metadata": {},
   "source": [
    "7. Print a multiplication table that matches the following. Use two nested for loops to achieve this."
   ]
  },
  {
   "cell_type": "markdown",
   "metadata": {},
   "source": [
    "<img src=\"files/table.png\">"
   ]
  },
  {
   "cell_type": "code",
   "execution_count": 34,
   "metadata": {},
   "outputs": [
    {
     "name": "stdout",
     "output_type": "stream",
     "text": [
      "   1   2   3   4   5   6   7   8   9  10\n",
      "   2   4   6   8  10  12  14  16  18  20\n",
      "   3   6   9  12  15  18  21  24  27  30\n",
      "   4   8  12  16  20  24  28  32  36  40\n",
      "   5  10  15  20  25  30  35  40  45  50\n",
      "   6  12  18  24  30  36  42  48  54  60\n",
      "   7  14  21  28  35  42  49  56  63  70\n",
      "   8  16  24  32  40  48  56  64  72  80\n",
      "   9  18  27  36  45  54  63  72  81  90\n",
      "  10  20  30  40  50  60  70  80  90  100\n"
     ]
    }
   ],
   "source": [
    "#import sys #When imported it provides constants, functions and methods in Python \n",
    "#for number_one in range(1,11): #Set up row 1-10\n",
    "   #for number_two in range(1,11): #Set up column 1-10\n",
    "      #answer = number_one*number_two #Multiple the two(row x column)\n",
    "      #print (answer, end=' ') #Print the answer \n",
    "   #print()\"\"\n",
    "\n",
    "#Numbers in rows\n",
    "for rownumber in range(1, 11):\n",
    "    #Numbers in columns\n",
    "    for columnnumber in range(1, 11):\n",
    "        answer = rownumber * columnnumber\n",
    "        #If and Else statements align the answers of the numbers in the rows multiplied by the columns accordingly\n",
    "        if answer < 10:\n",
    "            empty = \"  \"\n",
    "        else:\n",
    "            if answer < 100:\n",
    "                empty = \" \"\n",
    "        if columnnumber == 0:\n",
    "            if rownumber == 0:\n",
    "                print(\"    \", end='')\n",
    "            else:\n",
    "                print(\"  \", rownumber, end='')\n",
    "        elif rownumber == 0:\n",
    "            print(\"  \", columnnumber, end='')\n",
    "        else:\n",
    "            print(empty, answer, end='')\n",
    "    print()\n"
   ]
  },
  {
   "cell_type": "markdown",
   "metadata": {},
   "source": [
    "6. Is a String Immutable in Python?"
   ]
  },
  {
   "cell_type": "code",
   "execution_count": null,
   "metadata": {},
   "outputs": [],
   "source": [
    "#String is imuttable in Pyton because it can not be changed"
   ]
  },
  {
   "cell_type": "markdown",
   "metadata": {},
   "source": [
    "7. What is the output of x AND explain why that is the output for:"
   ]
  },
  {
   "cell_type": "raw",
   "metadata": {},
   "source": [
    "x = 36 / 4 * (3 +  2) * 4 + 2"
   ]
  },
  {
   "cell_type": "code",
   "execution_count": null,
   "metadata": {},
   "outputs": [],
   "source": [
    "#It works in the order of PEMDAS\n",
    "x = 182 "
   ]
  },
  {
   "cell_type": "markdown",
   "metadata": {},
   "source": [
    "<!--NAVIGATION-->\n",
    "Module 1. [Basic Python Syntax](./01_mod_python_syntax.ipynb) | [Variables and Objects](./02_python_variables_objects.ipynb) | [Operators](./03_python_operators.ipynb) | **[Practice](./04_mod_practice.ipynb)**\n",
    "<br>\n",
    "[top](#)"
   ]
  },
  {
   "cell_type": "markdown",
   "metadata": {},
   "source": [
    "- - -\n",
    "\n",
    "Copyright © 2020 Qualex Consulting Services Incorporated."
   ]
  }
 ],
 "metadata": {
  "kernelspec": {
   "display_name": "Python 3 (ipykernel)",
   "language": "python",
   "name": "python3"
  },
  "language_info": {
   "codemirror_mode": {
    "name": "ipython",
    "version": 3
   },
   "file_extension": ".py",
   "mimetype": "text/x-python",
   "name": "python",
   "nbconvert_exporter": "python",
   "pygments_lexer": "ipython3",
   "version": "3.9.12"
  }
 },
 "nbformat": 4,
 "nbformat_minor": 4
}
