{
 "cells": [
  {
   "cell_type": "markdown",
   "metadata": {},
   "source": [
    "Data Science Fundamentals: Python |\n",
    "[Table of Contents](../index.ipynb)\n",
    "- - - \n",
    "<!--NAVIGATION-->\n",
    "Module 7. | [Objects and Classes](./01_obj_classes.ipynb) | [Examples of Objects and Classes](./02_ex_obj_classes.ipynb) | **[Exercises](./03_obj_classes_exercises.ipynb)**"
   ]
  },
  {
   "cell_type": "markdown",
   "metadata": {},
   "source": [
    "# Module 7: Practice Exercises"
   ]
  },
  {
   "cell_type": "markdown",
   "metadata": {},
   "source": [
    "## Exercise 1. "
   ]
  },
  {
   "cell_type": "markdown",
   "metadata": {},
   "source": [
    "[See Hacker Rank Problem](https://www.hackerrank.com/challenges/class-1-dealing-with-complex-numbers/problem)"
   ]
  },
  {
   "cell_type": "markdown",
   "metadata": {},
   "source": [
    "### Classes: Dealing with Complex Numbers"
   ]
  },
  {
   "cell_type": "markdown",
   "metadata": {},
   "source": [
    "For this challenge, you are given two complex numbers, and you have to print the result of their addition, subtraction, multiplication, division and modulus operations.\n",
    "\n",
    "The real and imaginary precision part should be correct up to two decimal places."
   ]
  },
  {
   "cell_type": "markdown",
   "metadata": {},
   "source": [
    "**Input Format**"
   ]
  },
  {
   "cell_type": "markdown",
   "metadata": {},
   "source": [
    "One line of input: The real and imaginary part of a number separated by a space."
   ]
  },
  {
   "cell_type": "markdown",
   "metadata": {},
   "source": [
    "**Output Format**"
   ]
  },
  {
   "cell_type": "markdown",
   "metadata": {},
   "source": [
    "For two complex numbers **C** and **D**, the output should be in the following sequence on separate lines:"
   ]
  },
  {
   "cell_type": "markdown",
   "metadata": {},
   "source": [
    "![screenshot](files/screenshot.png)"
   ]
  },
  {
   "cell_type": "markdown",
   "metadata": {},
   "source": [
    "**Sample Input**"
   ]
  },
  {
   "cell_type": "raw",
   "metadata": {},
   "source": [
    "2 1\n",
    "5 6"
   ]
  },
  {
   "cell_type": "markdown",
   "metadata": {},
   "source": [
    "**Sample Output**"
   ]
  },
  {
   "cell_type": "raw",
   "metadata": {},
   "source": [
    "7.00+7.00i\n",
    "-3.00-5.00i\n",
    "4.00+17.00i\n",
    "0.26-0.11i\n",
    "2.24+0.00i\n",
    "7.81+0.00i"
   ]
  },
  {
   "cell_type": "markdown",
   "metadata": {},
   "source": [
    "**Concept**"
   ]
  },
  {
   "cell_type": "markdown",
   "metadata": {},
   "source": [
    "Python is a fully object-oriented language like C++, Java, etc. For reading about classes, refer here.\n",
    "\n",
    "Methods with a double underscore before and after their name are considered as built-in methods. They are used by interpreters and are generally used in the implementation of overloaded operators or other built-in functionality."
   ]
  },
  {
   "cell_type": "markdown",
   "metadata": {},
   "source": [
    "```__add__-> Can be overloaded for + operation```"
   ]
  },
  {
   "cell_type": "markdown",
   "metadata": {},
   "source": [
    "```__sub__ -> Can be overloaded for - operation```"
   ]
  },
  {
   "cell_type": "markdown",
   "metadata": {},
   "source": [
    "```__mul__ -> Can be overloaded for * operation```"
   ]
  },
  {
   "cell_type": "markdown",
   "metadata": {},
   "source": [
    "For operator overloading see [Data Model Reference](https://docs.python.org/3.2/reference/datamodel.html)"
   ]
  },
  {
   "cell_type": "markdown",
   "metadata": {},
   "source": [
    "### What is [overloading](https://stackabuse.com/overloading-functions-and-operators-in-python/)?"
   ]
  },
  {
   "cell_type": "markdown",
   "metadata": {},
   "source": [
    "Overloading, in the context of programming, refers to the ability of a function or an operator to behave in different ways depending on the parameters that are passed to the function, or the operands that the operator acts on."
   ]
  },
  {
   "cell_type": "code",
   "execution_count": 3,
   "metadata": {},
   "outputs": [
    {
     "name": "stdout",
     "output_type": "stream",
     "text": [
      "5\n",
      "5\n"
     ]
    },
    {
     "ename": "TypeError",
     "evalue": "__init__() missing 1 required positional argument: 'imaginary'",
     "output_type": "error",
     "traceback": [
      "\u001b[1;31m---------------------------------------------------------------------------\u001b[0m",
      "\u001b[1;31mTypeError\u001b[0m                                 Traceback (most recent call last)",
      "Input \u001b[1;32mIn [3]\u001b[0m, in \u001b[0;36m<cell line: 46>\u001b[1;34m()\u001b[0m\n\u001b[0;32m     47\u001b[0m c \u001b[38;5;241m=\u001b[39m \u001b[38;5;28mmap\u001b[39m(\u001b[38;5;28mfloat\u001b[39m, \u001b[38;5;28minput\u001b[39m()\u001b[38;5;241m.\u001b[39msplit())\n\u001b[0;32m     48\u001b[0m d \u001b[38;5;241m=\u001b[39m \u001b[38;5;28mmap\u001b[39m(\u001b[38;5;28mfloat\u001b[39m, \u001b[38;5;28minput\u001b[39m()\u001b[38;5;241m.\u001b[39msplit())\n\u001b[1;32m---> 49\u001b[0m x \u001b[38;5;241m=\u001b[39m \u001b[43mComplex\u001b[49m\u001b[43m(\u001b[49m\u001b[38;5;241;43m*\u001b[39;49m\u001b[43mc\u001b[49m\u001b[43m)\u001b[49m\n\u001b[0;32m     50\u001b[0m y \u001b[38;5;241m=\u001b[39m Complex(\u001b[38;5;241m*\u001b[39md)\n\u001b[0;32m     51\u001b[0m \u001b[38;5;28mprint\u001b[39m(\u001b[38;5;241m*\u001b[39m\u001b[38;5;28mmap\u001b[39m(\u001b[38;5;28mstr\u001b[39m, [x\u001b[38;5;241m+\u001b[39my, x\u001b[38;5;241m-\u001b[39my, x\u001b[38;5;241m*\u001b[39my, x\u001b[38;5;241m/\u001b[39my, x\u001b[38;5;241m.\u001b[39mmod(), y\u001b[38;5;241m.\u001b[39mmod()]), sep\u001b[38;5;241m=\u001b[39m\u001b[38;5;124m'\u001b[39m\u001b[38;5;130;01m\\n\u001b[39;00m\u001b[38;5;124m'\u001b[39m)\n",
      "\u001b[1;31mTypeError\u001b[0m: __init__() missing 1 required positional argument: 'imaginary'"
     ]
    }
   ],
   "source": [
    "import math\n",
    "\n",
    "class Complex(object):\n",
    "    def __init__(self, real, imaginary):#define real and imaginary \n",
    "        self.real = real\n",
    "        self.imaginary = imaginary\n",
    "        \n",
    "    def __add__(self, number):#add complex numbers\n",
    "        return Complex(self.real + number.real, self.imaginary + number.imaginary)\n",
    "        \n",
    "    def __sub__(self, number):#subtract complex numbers\n",
    "        return Complex(self.real - number.real, self.imaginary - number.imaginary)\n",
    "        \n",
    "    def __mul__(self, number):#multiply complex numbers\n",
    "        return Complex(self.real*number.real - self.imaginary*number.imaginary,\n",
    "                      self.real*number.imaginary + self.imaginary*number.real)\n",
    "        \n",
    "    def __truediv__(self, number):#divide complex numbers\n",
    "        return Complex((self.real*number.real + self.imaginary*number.imaginary)/(number.real**2 + number.imaginary**2),\n",
    "                      (self.imaginary*number.real - self.real*number.imaginary)/(number.real**2 + number.imaginary**2))\n",
    "\n",
    "    def mod(self):#mods c & d\n",
    "        return Complex((self.real**2 + self.imaginary**2)**(1/2),\n",
    "                       0)\n",
    "\n",
    "    def __str__(self):#define self\n",
    "        if self.imaginary == 0:\n",
    "            result = \"%.2f+0.00i\" % (self.real)\n",
    "        elif self.real == 0:\n",
    "            if self.imaginary >= 0:\n",
    "                result = \"0.00+%.2fi\" % (self.imaginary)\n",
    "            else:\n",
    "                result = \"0.00-%.2fi\" % (abs(self.imaginary))\n",
    "        elif self.imaginary > 0:\n",
    "            result = \"%.2f+%.2fi\" % (self.real, self.imaginary)\n",
    "        else:\n",
    "            result = \"%.2f-%.2fi\" % (self.real, abs(self.imaginary))\n",
    "        return result\n",
    "\n",
    "\n",
    "\n",
    "\n",
    "\n",
    "\n",
    "\n",
    "if __name__ == '__main__':\n",
    "    c = map(float, input().split())\n",
    "    d = map(float, input().split())\n",
    "    x = Complex(*c)\n",
    "    y = Complex(*d)\n",
    "    print(*map(str, [x+y, x-y, x*y, x/y, x.mod(), y.mod()]), sep='\\n')"
   ]
  },
  {
   "cell_type": "markdown",
   "metadata": {},
   "source": [
    "### [Answer](https://thedataincubator.github.io/coding-challenges/challenges/class-1-dealing-with-complex-numbers.html)"
   ]
  },
  {
   "cell_type": "markdown",
   "metadata": {},
   "source": [
    "[Submit Hacker Rank Problem](https://www.hackerrank.com/challenges/class-1-dealing-with-complex-numbers/submissions)"
   ]
  },
  {
   "cell_type": "markdown",
   "metadata": {},
   "source": [
    "- - - \n",
    "<!--NAVIGATION-->\n",
    "Module 7. | [Objects and Classes](./01_obj_classes.ipynb) | [Examples of Objects and Classes](./02_ex_obj_classes.ipynb) | **[Exercises](./03_obj_classes_exercises.ipynb)**"
   ]
  },
  {
   "cell_type": "markdown",
   "metadata": {},
   "source": [
    "- - -\n",
    "\n",
    "Copyright © 2020 Qualex Consulting Services Incorporated."
   ]
  },
  {
   "cell_type": "code",
   "execution_count": null,
   "metadata": {},
   "outputs": [],
   "source": []
  }
 ],
 "metadata": {
  "kernelspec": {
   "display_name": "Python 3 (ipykernel)",
   "language": "python",
   "name": "python3"
  },
  "language_info": {
   "codemirror_mode": {
    "name": "ipython",
    "version": 3
   },
   "file_extension": ".py",
   "mimetype": "text/x-python",
   "name": "python",
   "nbconvert_exporter": "python",
   "pygments_lexer": "ipython3",
   "version": "3.9.12"
  }
 },
 "nbformat": 4,
 "nbformat_minor": 4
}
