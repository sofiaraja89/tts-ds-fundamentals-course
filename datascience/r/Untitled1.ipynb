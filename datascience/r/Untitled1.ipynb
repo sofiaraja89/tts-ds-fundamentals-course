{
 "cells": [
  {
   "cell_type": "code",
   "execution_count": 1,
   "id": "746f000b",
   "metadata": {},
   "outputs": [
    {
     "name": "stdout",
     "output_type": "stream",
     "text": [
      "[1] 1\n",
      "[1] 2\n",
      "[1] 3\n",
      "[1] 4\n",
      "[1] 5\n",
      "[1] 6\n",
      "[1] 7\n",
      "[1] 8\n",
      "[1] 9\n",
      "[1] 10\n"
     ]
    }
   ],
   "source": [
    "for(i in 1:10)\n",
    "    {print(i)}\n"
   ]
  },
  {
   "cell_type": "code",
   "execution_count": 2,
   "id": "24e93afa",
   "metadata": {},
   "outputs": [
    {
     "name": "stdout",
     "output_type": "stream",
     "text": [
      "[1] 52 53 59 53 70 62 65 63\n"
     ]
    }
   ],
   "source": [
    "x <- rbinom(8,150,.4)\n",
    "print(x)"
   ]
  },
  {
   "cell_type": "code",
   "execution_count": 6,
   "id": "3a27ecd2",
   "metadata": {},
   "outputs": [
    {
     "ename": "ERROR",
     "evalue": "Error in eval(expr, envir, enclos): object 'each' not found\n",
     "output_type": "error",
     "traceback": [
      "Error in eval(expr, envir, enclos): object 'each' not found\nTraceback:\n"
     ]
    }
   ],
   "source": [
    "v <- rep(x,each,times=5)"
   ]
  },
  {
   "cell_type": "code",
   "execution_count": 9,
   "id": "b19ebfb5",
   "metadata": {},
   "outputs": [
    {
     "data": {
      "text/html": [
       "'cricket'"
      ],
      "text/latex": [
       "'cricket'"
      ],
      "text/markdown": [
       "'cricket'"
      ],
      "text/plain": [
       "[1] \"cricket\""
      ]
     },
     "metadata": {},
     "output_type": "display_data"
    }
   ],
   "source": [
    "demo <- c(\"tree\",\"rock\",\"dirt\",\"cricket\",\"waterfall\")\n",
    "demo[4]"
   ]
  },
  {
   "cell_type": "code",
   "execution_count": null,
   "id": "57ac2779",
   "metadata": {},
   "outputs": [],
   "source": []
  }
 ],
 "metadata": {
  "kernelspec": {
   "display_name": "R",
   "language": "R",
   "name": "ir"
  },
  "language_info": {
   "codemirror_mode": "r",
   "file_extension": ".r",
   "mimetype": "text/x-r-source",
   "name": "R",
   "pygments_lexer": "r",
   "version": "3.6.1"
  }
 },
 "nbformat": 4,
 "nbformat_minor": 5
}
