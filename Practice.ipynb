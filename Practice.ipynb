{
 "cells": [
  {
   "cell_type": "code",
   "execution_count": 1,
   "id": "535d3966",
   "metadata": {},
   "outputs": [
    {
     "name": "stdout",
     "output_type": "stream",
     "text": [
      "Hello World\n"
     ]
    }
   ],
   "source": [
    "#method to print \n",
    "\"\"\"\n",
    "method to print \n",
    "\"\"\"\n",
    "print (\"Hello World\")\n"
   ]
  },
  {
   "cell_type": "code",
   "execution_count": null,
   "id": "091d891b",
   "metadata": {},
   "outputs": [],
   "source": [
    "df = pd.read_exce;('example.xlsx')\n",
    "\n",
    "list_rexample = []\n",
    "\n",
    "list_example.append(df) \n",
    "\n"
   ]
  },
  {
   "cell_type": "code",
   "execution_count": null,
   "id": "b56992f6",
   "metadata": {},
   "outputs": [],
   "source": [
    "def example_function(ex_1, ex_2):\n",
    "    print(ex_1 + ex_2)\n",
    "    "
   ]
  },
  {
   "cell_type": "markdown",
   "id": "6e7a3567",
   "metadata": {},
   "source": [
    "#shift + enter\n",
    "\n",
    "print (\"Hello World\") \n"
   ]
  },
  {
   "cell_type": "markdown",
   "id": "1abbb07c",
   "metadata": {},
   "source": [
    "Texas"
   ]
  },
  {
   "cell_type": "markdown",
   "id": "516aeb4f",
   "metadata": {},
   "source": [
    "Part"
   ]
  },
  {
   "cell_type": "raw",
   "id": "ad719ff0",
   "metadata": {},
   "source": [
    "hello"
   ]
  },
  {
   "cell_type": "markdown",
   "id": "752cd975",
   "metadata": {},
   "source": [
    "# Texas"
   ]
  },
  {
   "cell_type": "code",
   "execution_count": 5,
   "id": "b75bf644",
   "metadata": {},
   "outputs": [
    {
     "name": "stdout",
     "output_type": "stream",
     "text": [
      "1\n",
      "3\n"
     ]
    }
   ],
   "source": [
    "#Variable Setting \n",
    "x = 1\n",
    "y = 2  \n",
    "z = 3\n",
    "\n",
    "print (x) \n",
    "print (x +y)"
   ]
  },
  {
   "cell_type": "code",
   "execution_count": null,
   "id": "0ac89652",
   "metadata": {},
   "outputs": [],
   "source": []
  },
  {
   "cell_type": "code",
   "execution_count": null,
   "id": "4d5e71af",
   "metadata": {},
   "outputs": [],
   "source": []
  }
 ],
 "metadata": {
  "kernelspec": {
   "display_name": "Python 3 (ipykernel)",
   "language": "python",
   "name": "python3"
  },
  "language_info": {
   "codemirror_mode": {
    "name": "ipython",
    "version": 3
   },
   "file_extension": ".py",
   "mimetype": "text/x-python",
   "name": "python",
   "nbconvert_exporter": "python",
   "pygments_lexer": "ipython3",
   "version": "3.9.12"
  }
 },
 "nbformat": 4,
 "nbformat_minor": 5
}
