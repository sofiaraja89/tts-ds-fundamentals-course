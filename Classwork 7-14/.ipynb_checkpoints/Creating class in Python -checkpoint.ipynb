{
 "cells": [
  {
   "cell_type": "code",
   "execution_count": 38,
   "id": "df29c6bb",
   "metadata": {},
   "outputs": [
    {
     "name": "stdout",
     "output_type": "stream",
     "text": [
      "corey.schafer@company.com\n",
      "test.user@company.com\n",
      "coreyschafer\n",
      "testuser\n",
      "5000\n",
      "60000\n"
     ]
    },
    {
     "data": {
      "text/plain": [
       "'5000'"
      ]
     },
     "execution_count": 38,
     "metadata": {},
     "output_type": "execute_result"
    }
   ],
   "source": [
    "#https://www.w3schools.com/python/ref_string_format.asp\n",
    "#https://www.udacity.com/blog/2021/11/__init__-in-python-an-overview.html\n",
    "#https://youtu.be/ZDa-Z5JzLYM\n",
    "\n",
    "#create class in python \n",
    "\n",
    "class Employee:#pass, blueprint to create instances \n",
    "   \n",
    "    def __init__ (self, first, last, pay): #constructor,instance first automatically #ALWAYS PUT SELF FIRST\n",
    "        self.first = first \n",
    "        self.last = last \n",
    "        self.pay = pay \n",
    "        self.email = first + '.' + last + '@company.com'\n",
    "        \n",
    "    def fullname(self):\n",
    "        return '{}{}'.format(self.first,self.last)\n",
    "    def salary(self):\n",
    "        return '{}'.format(self.pay)\n",
    "    \n",
    "emp_1 = Employee('corey',  'schafer', 5000)#instance\n",
    "emp_2 = Employee ('test',  'user', 60000)#instance \n",
    "    \n",
    "    #print (emp_1)\n",
    "    #print (emp_2)\n",
    "    \n",
    "print (emp_1.email)\n",
    "print (emp_2.email)\n",
    "    \n",
    "print (emp_1.fullname())    #print (Employee.fulname(emp_1))\n",
    "print (emp_2.fullname())\n",
    "\n",
    "print (emp_1.pay)\n",
    "print (emp_2.pay)  \n",
    "    \n",
    "Employee.fullname(emp_1)\n",
    "Employee.salary(emp_1)\n",
    "    \n",
    "    "
   ]
  },
  {
   "cell_type": "markdown",
   "id": "d8f73897",
   "metadata": {},
   "source": [
    "### Exercise\n",
    "We have a class defined for vehicles. Create two new vehicles called car1 and car2. Set car1 to be a red convertible worth $60,000.00 with a name of Fer, and car2 to be a blue van named Jump worth $10,000.00.\n",
    "\n"
   ]
  },
  {
   "cell_type": "code",
   "execution_count": 35,
   "id": "092bd32b",
   "metadata": {},
   "outputs": [
    {
     "name": "stdout",
     "output_type": "stream",
     "text": [
      "Fer is a red convertible worth $60000.00.\n",
      "Jump is a blue van worth $10000.00.\n"
     ]
    }
   ],
   "source": [
    "# define the Vehicle class\n",
    "class Vehicle:\n",
    "    name = \"\"\n",
    "    kind = \"car\"\n",
    "    color = \"\"\n",
    "    value = 100.00\n",
    "    \n",
    "    def __init__ (self, name, kind, color, value):\n",
    "        self.name = name\n",
    "        self.kind = kind \n",
    "        self.color = color \n",
    "        self.value = value\n",
    "        \n",
    "    def description(self):\n",
    "        desc_str = \"%s is a %s %s worth $%.2f.\" % (self.name, self.color, self.kind, self.value)\n",
    "        return desc_str\n",
    "# your code goes here\n",
    "\n",
    "#car1 = Vehicle()\n",
    "#car1.name = 'Fer'\n",
    "#car1.color = 'Red'\n",
    "#car1.kind = 'Convertible'\n",
    "#car1.value = 60000                         \n",
    "\n",
    "#car2 = Vehicle()\n",
    "#car2.name = 'Jump'\n",
    "#car2.color = 'Blue'\n",
    "#car2.kind = 'Van'\n",
    "#car2.value = 10000\n",
    "\n",
    "# test code\n",
    "print(car1.description())\n",
    "print(car2.description())\n",
    "\n",
    "car1 = Vehicle ('Fer', 'convertible', 'red', 60000)\n",
    "car2 = Vehicle ('Jump', 'van', 'blue', 10000)"
   ]
  },
  {
   "cell_type": "code",
   "execution_count": 46,
   "id": "22d5ef12",
   "metadata": {},
   "outputs": [],
   "source": [
    "#dunder methods\n",
    "#https://towardsdatascience.com/mathematics-for-data-science-e53939ee8306"
   ]
  },
  {
   "cell_type": "code",
   "execution_count": null,
   "id": "17b9a0f6",
   "metadata": {},
   "outputs": [],
   "source": []
  },
  {
   "cell_type": "code",
   "execution_count": null,
   "id": "d6d4280d",
   "metadata": {},
   "outputs": [],
   "source": []
  },
  {
   "cell_type": "code",
   "execution_count": null,
   "id": "f59c10e1",
   "metadata": {},
   "outputs": [],
   "source": []
  },
  {
   "cell_type": "code",
   "execution_count": null,
   "id": "e5cee803",
   "metadata": {},
   "outputs": [],
   "source": []
  }
 ],
 "metadata": {
  "kernelspec": {
   "display_name": "Python 3 (ipykernel)",
   "language": "python",
   "name": "python3"
  },
  "language_info": {
   "codemirror_mode": {
    "name": "ipython",
    "version": 3
   },
   "file_extension": ".py",
   "mimetype": "text/x-python",
   "name": "python",
   "nbconvert_exporter": "python",
   "pygments_lexer": "ipython3",
   "version": "3.9.12"
  }
 },
 "nbformat": 4,
 "nbformat_minor": 5
}
